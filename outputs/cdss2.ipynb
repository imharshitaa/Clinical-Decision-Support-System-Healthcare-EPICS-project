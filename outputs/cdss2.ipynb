{
  "cells": [
    {
      "cell_type": "code",
      "execution_count": 1,
      "metadata": {
        "colab": {
          "base_uri": "https://localhost:8080/"
        },
        "id": "hbSuHH-0yu5o",
        "outputId": "31ca0c32-a83d-4e99-ffea-8ef93c6878d4"
      },
      "outputs": [
        {
          "output_type": "stream",
          "name": "stdout",
          "text": [
            "Collecting Flask-SQLAlchemy\n",
            "  Downloading flask_sqlalchemy-3.1.1-py3-none-any.whl (25 kB)\n",
            "Requirement already satisfied: flask>=2.2.5 in /usr/local/lib/python3.10/dist-packages (from Flask-SQLAlchemy) (2.2.5)\n",
            "Requirement already satisfied: sqlalchemy>=2.0.16 in /usr/local/lib/python3.10/dist-packages (from Flask-SQLAlchemy) (2.0.30)\n",
            "Requirement already satisfied: Werkzeug>=2.2.2 in /usr/local/lib/python3.10/dist-packages (from flask>=2.2.5->Flask-SQLAlchemy) (3.0.3)\n",
            "Requirement already satisfied: Jinja2>=3.0 in /usr/local/lib/python3.10/dist-packages (from flask>=2.2.5->Flask-SQLAlchemy) (3.1.4)\n",
            "Requirement already satisfied: itsdangerous>=2.0 in /usr/local/lib/python3.10/dist-packages (from flask>=2.2.5->Flask-SQLAlchemy) (2.2.0)\n",
            "Requirement already satisfied: click>=8.0 in /usr/local/lib/python3.10/dist-packages (from flask>=2.2.5->Flask-SQLAlchemy) (8.1.7)\n",
            "Requirement already satisfied: typing-extensions>=4.6.0 in /usr/local/lib/python3.10/dist-packages (from sqlalchemy>=2.0.16->Flask-SQLAlchemy) (4.11.0)\n",
            "Requirement already satisfied: greenlet!=0.4.17 in /usr/local/lib/python3.10/dist-packages (from sqlalchemy>=2.0.16->Flask-SQLAlchemy) (3.0.3)\n",
            "Requirement already satisfied: MarkupSafe>=2.0 in /usr/local/lib/python3.10/dist-packages (from Jinja2>=3.0->flask>=2.2.5->Flask-SQLAlchemy) (2.1.5)\n",
            "Installing collected packages: Flask-SQLAlchemy\n",
            "Successfully installed Flask-SQLAlchemy-3.1.1\n",
            "Collecting Flask-Migrate\n",
            "  Downloading Flask_Migrate-4.0.7-py3-none-any.whl (21 kB)\n",
            "Requirement already satisfied: Flask>=0.9 in /usr/local/lib/python3.10/dist-packages (from Flask-Migrate) (2.2.5)\n",
            "Requirement already satisfied: Flask-SQLAlchemy>=1.0 in /usr/local/lib/python3.10/dist-packages (from Flask-Migrate) (3.1.1)\n",
            "Collecting alembic>=1.9.0 (from Flask-Migrate)\n",
            "  Downloading alembic-1.13.1-py3-none-any.whl (233 kB)\n",
            "\u001b[2K     \u001b[90m━━━━━━━━━━━━━━━━━━━━━━━━━━━━━━━━━━━━━━━━\u001b[0m \u001b[32m233.4/233.4 kB\u001b[0m \u001b[31m4.2 MB/s\u001b[0m eta \u001b[36m0:00:00\u001b[0m\n",
            "\u001b[?25hRequirement already satisfied: SQLAlchemy>=1.3.0 in /usr/local/lib/python3.10/dist-packages (from alembic>=1.9.0->Flask-Migrate) (2.0.30)\n",
            "Collecting Mako (from alembic>=1.9.0->Flask-Migrate)\n",
            "  Downloading Mako-1.3.3-py3-none-any.whl (78 kB)\n",
            "\u001b[2K     \u001b[90m━━━━━━━━━━━━━━━━━━━━━━━━━━━━━━━━━━━━━━━━\u001b[0m \u001b[32m78.8/78.8 kB\u001b[0m \u001b[31m9.3 MB/s\u001b[0m eta \u001b[36m0:00:00\u001b[0m\n",
            "\u001b[?25hRequirement already satisfied: typing-extensions>=4 in /usr/local/lib/python3.10/dist-packages (from alembic>=1.9.0->Flask-Migrate) (4.11.0)\n",
            "Requirement already satisfied: Werkzeug>=2.2.2 in /usr/local/lib/python3.10/dist-packages (from Flask>=0.9->Flask-Migrate) (3.0.3)\n",
            "Requirement already satisfied: Jinja2>=3.0 in /usr/local/lib/python3.10/dist-packages (from Flask>=0.9->Flask-Migrate) (3.1.4)\n",
            "Requirement already satisfied: itsdangerous>=2.0 in /usr/local/lib/python3.10/dist-packages (from Flask>=0.9->Flask-Migrate) (2.2.0)\n",
            "Requirement already satisfied: click>=8.0 in /usr/local/lib/python3.10/dist-packages (from Flask>=0.9->Flask-Migrate) (8.1.7)\n",
            "Requirement already satisfied: MarkupSafe>=2.0 in /usr/local/lib/python3.10/dist-packages (from Jinja2>=3.0->Flask>=0.9->Flask-Migrate) (2.1.5)\n",
            "Requirement already satisfied: greenlet!=0.4.17 in /usr/local/lib/python3.10/dist-packages (from SQLAlchemy>=1.3.0->alembic>=1.9.0->Flask-Migrate) (3.0.3)\n",
            "Installing collected packages: Mako, alembic, Flask-Migrate\n",
            "Successfully installed Flask-Migrate-4.0.7 Mako-1.3.3 alembic-1.13.1\n"
          ]
        }
      ],
      "source": [
        "!pip install Flask-SQLAlchemy\n",
        "!pip install Flask-Migrate\n"
      ]
    },
    {
      "cell_type": "code",
      "execution_count": 2,
      "metadata": {
        "colab": {
          "base_uri": "https://localhost:8080/"
        },
        "id": "rRwYFlt2Xbb8",
        "outputId": "2bf622ba-9c1b-48dc-ab8f-e115f33a0e79"
      },
      "outputs": [
        {
          "output_type": "stream",
          "name": "stderr",
          "text": [
            "Exception in thread _colab_inspector_thread:\n",
            "Traceback (most recent call last):\n",
            "  File \"/usr/lib/python3.10/threading.py\", line 1016, in _bootstrap_inner\n",
            "    self.run()\n",
            "  File \"/usr/lib/python3.10/threading.py\", line 953, in run\n",
            "    self._target(*self._args, **self._kwargs)\n",
            "  File \"/usr/local/lib/python3.10/dist-packages/google/colab/_debugpy.py\", line 64, in inspector_thread\n",
            "    _variable_inspector.run(shell, time)\n",
            "  File \"/usr/local/lib/python3.10/dist-packages/google/colab/_variable_inspector.py\", line 27, in run\n",
            "    globals().clear()\n",
            "TypeError: 'module' object is not callable\n"
          ]
        }
      ],
      "source": [
        "from distutils.log import debug\n",
        "from fileinput import filename\n",
        "from flask import *\n",
        "import numpy as np\n",
        "import csv\n",
        "import tensorflow as tf\n",
        "from tabulate import tabulate\n",
        "import pickle\n",
        "from flask import Flask, request, redirect\n",
        "from flask.templating import render_template\n",
        "from flask_sqlalchemy import SQLAlchemy\n",
        "from flask_migrate import Migrate, migrate\n",
        "import csv\n",
        "from collections import defaultdict\n",
        "\n",
        "\n",
        "app = Flask(__name__)\n",
        "@app.route('/')\n",
        "def main():\n",
        "    return render_template(\"index.html\")"
      ]
    },
    {
      "cell_type": "code",
      "execution_count": 3,
      "metadata": {
        "id": "8CIc0S5ty_JX"
      },
      "outputs": [],
      "source": [
        "# adding configuration for using a sqlite database\n",
        "#app.config['SQLALCHEMY_DATABASE_URI'] = 'sqlite:///site.db'\n",
        "app.config['SQLALCHEMY_DATABASE_URI'] = 'sqlite:///database.db'\n",
        "\n",
        "\n",
        "# Creating an SQLAlchemy instance\n",
        "db = SQLAlchemy(app)\n",
        "app.app_context().push()\n",
        "\n",
        "# Settings for migrations\n",
        "migrate = Migrate(app, db)\n"
      ]
    },
    {
      "cell_type": "code",
      "execution_count": 4,
      "metadata": {
        "id": "Xb2ItIg3zR33"
      },
      "outputs": [],
      "source": [
        "# Models\n",
        "class Profile(db.Model):\n",
        "    inde = db.Column(db.Integer, primary_key=True)\n",
        "    first_name = db.Column(db.String(20), unique=False, nullable=False)\n",
        "    last_name = db.Column(db.String(20), unique=False, nullable=False)\n",
        "    age = db.Column(db.String, nullable=False)\n",
        "    hr = db.Column(db.Float, unique=False, nullable=False)\n",
        "    resp = db.Column(db.Float, unique=False, nullable=False)\n",
        "    spo2 = db.Column(db.Float, unique=False, nullable=False)\n",
        "    temp = db.Column(db.Float, unique=False, nullable=False)\n",
        "    pred = db.Column(db.String, unique=False, nullable=False)\n",
        "    suggestion = db.Column(db.String, unique=False, nullable=False)\n",
        "\n",
        "    # repr method represents how one object of this datatable\n",
        "    # will look like\n",
        "    def __repr__(self):\n",
        "        return f\"ID : {self.inde}, First_Name : {self.first_name}, Last_Name : {self.last_name}, Age: {self.age}, Heart_rate : {self.hr}, Respiration : {self.resp}, SpO2 : {self.spo2}, Temperature : {self.temp}, Prediction : {self.pred}, Suggestion : {self.pred}\"\n"
      ]
    },
    {
      "cell_type": "code",
      "execution_count": 5,
      "metadata": {
        "id": "H4QzaEgXzehO"
      },
      "outputs": [],
      "source": [
        "'''\n",
        "# function to render database page\n",
        "@app.route('/view')\n",
        "def view():\n",
        "    profiles = Profile.query.all()\n",
        "    print(\"line 60000000\")\n",
        "    print(profiles)\n",
        "    return render_template('database.html', profiles=profiles)\n",
        "'''\n",
        "@app.route('/success',methods = ['POST'])\n",
        "def success():\n",
        "    if request.method == 'POST':\n",
        "        icu = request.form[\"icuBed\"]\n",
        "        print(\"line 19\")\n",
        "        print(icu)\n",
        "        gen = request.form[\"genBed\"]\n",
        "        print(\"line 22\")\n",
        "        print(gen)\n",
        "        f = request.files['file']\n",
        "        f.save(f.filename)\n",
        "        nameFile = f.filename\n",
        "        print(nameFile)\n",
        "        print(\"++++++++\")\n",
        "\n",
        "        columns = defaultdict(list) # each value in each column is appended to a list\n",
        "\n",
        "        with open(nameFile, \"r\") as f:\n",
        "            reader = csv.DictReader(f) # read rows into a dictionary format\n",
        "            with open(\"output.csv\", \"w\") as result:\n",
        "                writer = csv.writer(result)\n",
        "                for r in reader:\n",
        "                    # Use CSV Index to remove a column from CSV\n",
        "\t\t            #r[3] = r['year']\n",
        "                    writer.writerow((r['HR(BPM)'], r['RESP(BPM)'], r['SpO2(%)'], r['TEMP(C)']))\n",
        "            #for row in reader: # read a row as {column1: value1, column2: value2,...}\n",
        "                    for (k,v) in r.items(): # go over each column name and value\n",
        "                        columns[k].append(v) # append the value into the appropriate list\n",
        "                                         # based on column name k\n",
        "\n",
        "        print(columns)\n",
        "        global ind\n",
        "        ind = columns['Index']\n",
        "        global fn\n",
        "        fn = columns['FirstName']\n",
        "        global ln\n",
        "        ln = columns['LastName']\n",
        "        global age\n",
        "        age =  columns['Age']\n",
        "        print(ind)\n",
        "        print(fn)\n",
        "        print(ln)\n",
        "        print(age)\n",
        "        rows = []\n",
        "        with open('output.csv', 'r') as file:\n",
        "                    csvreader = csv.reader(file,quoting=csv.QUOTE_NONNUMERIC)\n",
        "                    #header = next(csvreader)\n",
        "                    for row in csvreader:\n",
        "                        if len(row) != 0:\n",
        "                            rows.append(row)\n",
        "                #print(header)\n",
        "        print(rows)\n",
        "        r = np.array(rows)\n",
        "        #print(header)\n",
        "        print(rows)\n",
        "        r = np.array(rows)\n",
        "        print(\"RRRRRRRRRR\")\n",
        "        print(r)\n",
        "        loaded_model = pickle.load(open('file.sav','rb'))\n",
        "        print(\"New Modellllllllll\")\n",
        "        global requiredAction\n",
        "        requiredAction = []\n",
        "        global final\n",
        "        final = []\n",
        "        table = [['Index','Prediction', 'Required Action']]\n",
        "        #background-image: url(\"https://www.healthcareitnews.com/sites/hitn/files/clinical-decision-imaging-getty-712.jpg\");\n",
        "        global hrate\n",
        "        hrate = []\n",
        "        global respLevel\n",
        "        respLevel = []\n",
        "        global spo2Level\n",
        "        spo2Level = []\n",
        "        global tempLevel\n",
        "        tempLevel = []\n",
        "        global pred\n",
        "        pred = []\n",
        "\n",
        "        # Check its architecture\n",
        "        index = 1\n",
        "        icucnt = icu\n",
        "        gencnt = gen\n",
        "        for z in r:\n",
        "            action = []\n",
        "            print(z)\n",
        "            print(\"Vital signs\")\n",
        "            heartRate = z[0]\n",
        "            respiration = z[1]\n",
        "            SPO2 = z[2]\n",
        "            temperature = z[3]\n",
        "            hrate.append(heartRate)\n",
        "            respLevel.append(respiration)\n",
        "            spo2Level.append(SPO2)\n",
        "            tempLevel.append(temperature)\n",
        "            print(heartRate)\n",
        "            if heartRate>100 or heartRate<60:\n",
        "                act = \"Check the heart rate\"\n",
        "                action.append(act)\n",
        "            elif respiration>26 or respiration<15:\n",
        "                act = \"Maintain a proper respiration rate depending on patient's age\"\n",
        "                action.append(act)\n",
        "            elif SPO2>98 or SPO2<95:\n",
        "                act = \"Please check the SPO2 Level\"\n",
        "                action.append(act)\n",
        "            elif temperature<35 or temperature>37.2:\n",
        "                act = \"Temperature is not in normal range\"\n",
        "                action.append(act)\n",
        "            else:\n",
        "                act = \"NONE\"\n",
        "                action.append(act)\n",
        "            print(action)\n",
        "            print(\"==========\")\n",
        "            z = z.reshape(1,-1)\n",
        "            Z_pred = loaded_model.predict(z)\n",
        "            pred.append(Z_pred)\n",
        "            print(Z_pred)\n",
        "            print(\"Final\")\n",
        "            print(Z_pred)\n",
        "            finalwithIndex = []\n",
        "            finalwithIndex.append(index)\n",
        "            if Z_pred == 0:\n",
        "                Z_pred = 'Patient needs to be admitted in ICU'\n",
        "                icucnt = int(icucnt) - 1\n",
        "            elif Z_pred == 1:\n",
        "                Z_pred = 'Patient can be shifted in General Ward'\n",
        "                gencnt = int(gencnt) - 1\n",
        "            finalwithIndex.append(Z_pred)\n",
        "            final.append(finalwithIndex)\n",
        "            table.append(finalwithIndex)\n",
        "            requiredAction.append(action)\n",
        "            index = index + 1\n",
        "        tableh1 = table[0][0]\n",
        "        print(tableh1)\n",
        "        tableh2 = table[0][1]\n",
        "        print(tableh2)\n",
        "        tableh3 = table[0][2]\n",
        "        print(tableh3)\n",
        "        print(requiredAction)\n",
        "\n",
        "        print(\"Length of final\")\n",
        "        print(len(final))\n",
        "        global length\n",
        "        length = len(final)\n",
        "\n",
        "        num = 0\n",
        "        for num in range(0,length):\n",
        "               print(ind[num])\n",
        "               print(fn[num])\n",
        "               print(\"Line 213\")\n",
        "               print(final[num][1])\n",
        "               for i in requiredAction[num]:\n",
        "                   sugg = i\n",
        "                   print(sugg)\n",
        "               indexUnique = int(ind[num])\n",
        "               print(indexUnique)\n",
        "               print(type(indexUnique))\n",
        "               p = Profile(inde = indexUnique, first_name = fn[num], last_name = ln[num],\n",
        "                       age = age[num], hr = hrate[num], resp = respLevel[num], spo2 = spo2Level[num],\n",
        "                       temp = tempLevel[num], pred = final[num][1], suggestion = sugg)\n",
        "               print(\"Line 221\")\n",
        "               print(p)\n",
        "\n",
        "               db.session.add(p)\n",
        "               db.session.commit()\n",
        "\n",
        "        return render_template(\"Acknowledgement.html\",name = nameFile, len = len(final), tableheader1 = tableh1,\n",
        "                               tableheader2 = tableh2, tableheader3 = tableh3, predictedValues = final, reqAct = requiredAction,\n",
        "                                icuBed = icucnt, genBed = gencnt)\n"
      ]
    },
    {
      "cell_type": "code",
      "execution_count": 6,
      "metadata": {
        "colab": {
          "base_uri": "https://localhost:8080/"
        },
        "id": "BciGWbg61Ocu",
        "outputId": "68fcf768-0701-4757-921b-068e1cec4ebe"
      },
      "outputs": [
        {
          "output_type": "stream",
          "name": "stdout",
          "text": [
            " * Serving Flask app '__main__'\n",
            " * Debug mode: off\n"
          ]
        },
        {
          "output_type": "stream",
          "name": "stderr",
          "text": [
            "INFO:werkzeug:\u001b[31m\u001b[1mWARNING: This is a development server. Do not use it in a production deployment. Use a production WSGI server instead.\u001b[0m\n",
            " * Running on http://127.0.0.1:5000\n",
            "INFO:werkzeug:\u001b[33mPress CTRL+C to quit\u001b[0m\n"
          ]
        }
      ],
      "source": [
        "from flask import Flask, render_template, request, redirect\n",
        "from flask_sqlalchemy import SQLAlchemy\n",
        "\n",
        "app = Flask(__name__)\n",
        "app.config['SQLALCHEMY_DATABASE_URI'] = 'sqlite:///your_database_file.db'  # Replace with your database URI\n",
        "db = SQLAlchemy(app)\n",
        "\n",
        "class Profile(db.Model):\n",
        "    id = db.Column(db.Integer, primary_key=True)\n",
        "    # Add other columns as per your Profile model\n",
        "\n",
        "@app.route('/view', methods=[\"GET\"])\n",
        "def view():\n",
        "    print(\"Line 235\")\n",
        "    print(request.method)\n",
        "    if request.method == \"GET\":\n",
        "        profiles = Profile.query.all()\n",
        "        print(\"line 239\")\n",
        "        print(profiles)\n",
        "        return render_template('database.html', profiles=profiles)\n",
        "\n",
        "@app.route('/delete/<int:inde>', methods=[\"GET\"])\n",
        "def delete(inde):\n",
        "    print(inde)\n",
        "    print(\"Line 275\")\n",
        "    print(request.method)\n",
        "    print(\"line 275\")\n",
        "    # Deletes the data on the basis of unique id and directs to home page\n",
        "    data = Profile.query.get(inde)\n",
        "    print(data)\n",
        "    if data:\n",
        "        db.session.delete(data)\n",
        "        db.session.commit()\n",
        "    return redirect('/view')  # Redirect to view after deletion\n",
        "\n",
        "if __name__ == '__main__':\n",
        "    app.run(debug=False)\n"
      ]
    },
    {
      "cell_type": "code",
      "execution_count": 7,
      "metadata": {
        "colab": {
          "base_uri": "https://localhost:8080/"
        },
        "id": "RqulfTQgp3MX",
        "outputId": "7b9dde75-52aa-4ac7-9dca-f205300cf346"
      },
      "outputs": [
        {
          "output_type": "stream",
          "name": "stdout",
          "text": [
            "Requirement already satisfied: flask in /usr/local/lib/python3.10/dist-packages (2.2.5)\n",
            "Requirement already satisfied: Werkzeug>=2.2.2 in /usr/local/lib/python3.10/dist-packages (from flask) (3.0.3)\n",
            "Requirement already satisfied: Jinja2>=3.0 in /usr/local/lib/python3.10/dist-packages (from flask) (3.1.4)\n",
            "Requirement already satisfied: itsdangerous>=2.0 in /usr/local/lib/python3.10/dist-packages (from flask) (2.2.0)\n",
            "Requirement already satisfied: click>=8.0 in /usr/local/lib/python3.10/dist-packages (from flask) (8.1.7)\n",
            "Requirement already satisfied: MarkupSafe>=2.0 in /usr/local/lib/python3.10/dist-packages (from Jinja2>=3.0->flask) (2.1.5)\n"
          ]
        }
      ],
      "source": [
        "pip install flask"
      ]
    },
    {
      "cell_type": "code",
      "execution_count": 8,
      "metadata": {
        "colab": {
          "base_uri": "https://localhost:8080/"
        },
        "id": "mysxI_V1qBN9",
        "outputId": "ee00d2c6-a522-40c4-a0d1-061516cfc949"
      },
      "outputs": [
        {
          "output_type": "stream",
          "name": "stdout",
          "text": [
            "Cloning into 'Clinical-Decision-Support-System-Healthcare-EPICS-project'...\n",
            "remote: Enumerating objects: 295, done.\u001b[K\n",
            "remote: Counting objects: 100% (137/137), done.\u001b[K\n",
            "remote: Compressing objects: 100% (131/131), done.\u001b[K\n",
            "remote: Total 295 (delta 56), reused 0 (delta 0), pack-reused 158\u001b[K\n",
            "Receiving objects: 100% (295/295), 24.08 MiB | 16.89 MiB/s, done.\n",
            "Resolving deltas: 100% (189/189), done.\n"
          ]
        }
      ],
      "source": [
        "!git clone https://github.com/imharshitaa/Clinical-Decision-Support-System-Healthcare-EPICS-project.git"
      ]
    },
    {
      "cell_type": "code",
      "execution_count": 9,
      "metadata": {
        "colab": {
          "base_uri": "https://localhost:8080/"
        },
        "id": "z2MWP379qQom",
        "outputId": "f897a592-68b8-4548-8635-267dda6c837c"
      },
      "outputs": [
        {
          "output_type": "stream",
          "name": "stdout",
          "text": [
            " * Serving Flask app '__main__'\n",
            " * Debug mode: on\n"
          ]
        },
        {
          "output_type": "stream",
          "name": "stderr",
          "text": [
            "INFO:werkzeug:\u001b[31m\u001b[1mWARNING: This is a development server. Do not use it in a production deployment. Use a production WSGI server instead.\u001b[0m\n",
            " * Running on http://127.0.0.1:5000\n",
            "INFO:werkzeug:\u001b[33mPress CTRL+C to quit\u001b[0m\n",
            "INFO:werkzeug: * Restarting with stat\n"
          ]
        }
      ],
      "source": [
        "app.run(host='127.0.0.1', port=5000, debug=True)"
      ]
    }
  ],
  "metadata": {
    "colab": {
      "provenance": []
    },
    "kernelspec": {
      "display_name": "Python 3",
      "name": "python3"
    },
    "language_info": {
      "name": "python"
    }
  },
  "nbformat": 4,
  "nbformat_minor": 0
}