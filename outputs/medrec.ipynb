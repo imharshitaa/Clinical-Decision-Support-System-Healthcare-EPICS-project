{
  "nbformat": 4,
  "nbformat_minor": 0,
  "metadata": {
    "colab": {
      "provenance": []
    },
    "kernelspec": {
      "name": "python3",
      "display_name": "Python 3"
    },
    "language_info": {
      "name": "python"
    }
  },
  "cells": [
    {
      "cell_type": "code",
      "execution_count": 26,
      "metadata": {
        "id": "XAX1KNbs3wDm"
      },
      "outputs": [],
      "source": [
        "import numpy as np\n",
        "import pandas as pd\n",
        "import matplotlib.pyplot as plt\n",
        "import seaborn as sns\n",
        "\n",
        "# This Python 3 environment comes with many helpful analytics libraries installed\n",
        "# It is defined by the kaggle/python Docker image: https://github.com/kaggle/docker-python\n",
        "# For example, here's several helpful packages to load\n",
        "\n",
        "import numpy as np # linear algebra\n",
        "import pandas as pd # data processing, CSV file I/O (e.g. pd.read_csv)\n"
      ]
    },
    {
      "cell_type": "code",
      "source": [
        "import nltk\n",
        "from nltk.stem.porter import PorterStemmer\n",
        "ps = PorterStemmer()\n",
        "\n",
        "!pip install -U scikit-learn scipy matplotlib\n",
        "\n"
      ],
      "metadata": {
        "colab": {
          "base_uri": "https://localhost:8080/"
        },
        "id": "7bhp3OweFu6F",
        "outputId": "1e8ca069-2259-4ccd-ede2-bb3ff78469a3"
      },
      "execution_count": 27,
      "outputs": [
        {
          "output_type": "stream",
          "name": "stdout",
          "text": [
            "Requirement already satisfied: scikit-learn in /usr/local/lib/python3.10/dist-packages (1.4.2)\n",
            "Requirement already satisfied: scipy in /usr/local/lib/python3.10/dist-packages (1.13.0)\n",
            "Requirement already satisfied: matplotlib in /usr/local/lib/python3.10/dist-packages (3.8.4)\n",
            "Requirement already satisfied: numpy>=1.19.5 in /usr/local/lib/python3.10/dist-packages (from scikit-learn) (1.25.2)\n",
            "Requirement already satisfied: joblib>=1.2.0 in /usr/local/lib/python3.10/dist-packages (from scikit-learn) (1.4.2)\n",
            "Requirement already satisfied: threadpoolctl>=2.0.0 in /usr/local/lib/python3.10/dist-packages (from scikit-learn) (3.5.0)\n",
            "Requirement already satisfied: contourpy>=1.0.1 in /usr/local/lib/python3.10/dist-packages (from matplotlib) (1.2.1)\n",
            "Requirement already satisfied: cycler>=0.10 in /usr/local/lib/python3.10/dist-packages (from matplotlib) (0.12.1)\n",
            "Requirement already satisfied: fonttools>=4.22.0 in /usr/local/lib/python3.10/dist-packages (from matplotlib) (4.51.0)\n",
            "Requirement already satisfied: kiwisolver>=1.3.1 in /usr/local/lib/python3.10/dist-packages (from matplotlib) (1.4.5)\n",
            "Requirement already satisfied: packaging>=20.0 in /usr/local/lib/python3.10/dist-packages (from matplotlib) (24.0)\n",
            "Requirement already satisfied: pillow>=8 in /usr/local/lib/python3.10/dist-packages (from matplotlib) (9.4.0)\n",
            "Requirement already satisfied: pyparsing>=2.3.1 in /usr/local/lib/python3.10/dist-packages (from matplotlib) (3.1.2)\n",
            "Requirement already satisfied: python-dateutil>=2.7 in /usr/local/lib/python3.10/dist-packages (from matplotlib) (2.8.2)\n",
            "Requirement already satisfied: six>=1.5 in /usr/local/lib/python3.10/dist-packages (from python-dateutil>=2.7->matplotlib) (1.16.0)\n"
          ]
        }
      ]
    },
    {
      "cell_type": "code",
      "source": [
        "!pip install nltk"
      ],
      "metadata": {
        "colab": {
          "base_uri": "https://localhost:8080/"
        },
        "id": "0n3dV6g2FhdF",
        "outputId": "00bf920a-8897-4d0a-af2d-38c9c17977f1"
      },
      "execution_count": 28,
      "outputs": [
        {
          "output_type": "stream",
          "name": "stdout",
          "text": [
            "Requirement already satisfied: nltk in /usr/local/lib/python3.10/dist-packages (3.8.1)\n",
            "Requirement already satisfied: click in /usr/local/lib/python3.10/dist-packages (from nltk) (8.1.7)\n",
            "Requirement already satisfied: joblib in /usr/local/lib/python3.10/dist-packages (from nltk) (1.4.2)\n",
            "Requirement already satisfied: regex>=2021.8.3 in /usr/local/lib/python3.10/dist-packages (from nltk) (2023.12.25)\n",
            "Requirement already satisfied: tqdm in /usr/local/lib/python3.10/dist-packages (from nltk) (4.66.4)\n"
          ]
        }
      ]
    },
    {
      "cell_type": "code",
      "source": [
        "import os\n",
        "for dirname, _, filenames in os.walk('/kaggle/input'):\n",
        "    for filename in filenames:\n",
        "        print(os.path.join(dirname, filename))\n"
      ],
      "metadata": {
        "id": "cC8fn4tV309i"
      },
      "execution_count": 29,
      "outputs": []
    },
    {
      "cell_type": "code",
      "source": [
        "\n",
        "# Clone the repository containing the dataset\n",
        "!git clone https://github.com/imharshitaa/ML-Model.git\n",
        "\n",
        "# Assuming the dataset file is in CSV format, you can use pandas to load it\n",
        "medicines = pd.read_csv(\"ML-Model/medicine.csv\")\n",
        "\n",
        "# Drop the 'Index' column\n",
        "medicines.drop(columns=['index'], inplace=True)\n",
        "\n",
        "# Replace NaN values with 0\n",
        "medicines.fillna(0, inplace=True)\n",
        "\n",
        "# Now you can work with the modified dataset\n",
        "print(medicines.head())\n",
        "\n",
        "medicines.head()\n",
        "\n",
        "medicines.shape\n"
      ],
      "metadata": {
        "colab": {
          "base_uri": "https://localhost:8080/"
        },
        "id": "VEx5u2WK34O5",
        "outputId": "397499b3-9f07-4b7a-d273-30e16f598ee4"
      },
      "execution_count": 30,
      "outputs": [
        {
          "output_type": "stream",
          "name": "stdout",
          "text": [
            "fatal: destination path 'ML-Model' already exists and is not an empty directory.\n",
            "                                           Drug_Name Reason  \\\n",
            "0               A CN Gel(Topical) 20gmA CN Soap 75gm   Acne   \n",
            "1  A Ret 0.05% Gel 20gmA Ret 0.1% Gel 20gmA Ret 0...   Acne   \n",
            "2                             ACGEL CL NANO Gel 15gm   Acne   \n",
            "3                                ACGEL NANO Gel 15gm   Acne   \n",
            "4                              Acleen 1% Lotion 25ml   Acne   \n",
            "\n",
            "                                         Description  \n",
            "0                      Mild to moderate acne (spots)  \n",
            "1  A RET 0.025% is a prescription medicine that i...  \n",
            "2  It is used to treat acne vulgaris in people 12...  \n",
            "3  It is used to treat acne vulgaris in people 12...  \n",
            "4  treat the most severe form of acne (nodular ac...  \n"
          ]
        },
        {
          "output_type": "execute_result",
          "data": {
            "text/plain": [
              "(9720, 3)"
            ]
          },
          "metadata": {},
          "execution_count": 30
        }
      ]
    },
    {
      "cell_type": "code",
      "source": [
        "medicines.isnull().sum()"
      ],
      "metadata": {
        "colab": {
          "base_uri": "https://localhost:8080/"
        },
        "id": "kTKaKeKiISNe",
        "outputId": "1ac67370-9188-486d-ad65-7dc47fc0290c"
      },
      "execution_count": 31,
      "outputs": [
        {
          "output_type": "execute_result",
          "data": {
            "text/plain": [
              "Drug_Name      0\n",
              "Reason         0\n",
              "Description    0\n",
              "dtype: int64"
            ]
          },
          "metadata": {},
          "execution_count": 31
        }
      ]
    },
    {
      "cell_type": "code",
      "source": [
        "medicines.dropna(inplace=True)\n",
        "\n"
      ],
      "metadata": {
        "id": "YMQk3SY-Hw3i"
      },
      "execution_count": 32,
      "outputs": []
    },
    {
      "cell_type": "code",
      "source": [
        "medicines.duplicated().sum()"
      ],
      "metadata": {
        "colab": {
          "base_uri": "https://localhost:8080/"
        },
        "id": "8hh33qe3IW1a",
        "outputId": "b77b7d63-d0ed-4509-f49a-038e697568e2"
      },
      "execution_count": 33,
      "outputs": [
        {
          "output_type": "execute_result",
          "data": {
            "text/plain": [
              "94"
            ]
          },
          "metadata": {},
          "execution_count": 33
        }
      ]
    },
    {
      "cell_type": "code",
      "source": [
        "medicines['Description']"
      ],
      "metadata": {
        "colab": {
          "base_uri": "https://localhost:8080/"
        },
        "id": "NrwGvp_pH01F",
        "outputId": "ee266c44-c7f7-4d1b-9fc5-3dd82993d246"
      },
      "execution_count": 34,
      "outputs": [
        {
          "output_type": "execute_result",
          "data": {
            "text/plain": [
              "0                           Mild to moderate acne (spots)\n",
              "1       A RET 0.025% is a prescription medicine that i...\n",
              "2       It is used to treat acne vulgaris in people 12...\n",
              "3       It is used to treat acne vulgaris in people 12...\n",
              "4       treat the most severe form of acne (nodular ac...\n",
              "                              ...                        \n",
              "9715                              used for treating warts\n",
              "9716                        used to soften the skin cells\n",
              "9717                                       used for scars\n",
              "9718                                      used for wounds\n",
              "9719    used to treat and remove raised warts (usually...\n",
              "Name: Description, Length: 9720, dtype: object"
            ]
          },
          "metadata": {},
          "execution_count": 34
        }
      ]
    },
    {
      "cell_type": "code",
      "source": [
        "medicines['Description'].apply(lambda x:x.split())"
      ],
      "metadata": {
        "colab": {
          "base_uri": "https://localhost:8080/"
        },
        "id": "cVjaWwlYIb76",
        "outputId": "a6c09fab-24d7-45fd-fe9d-9fabbefc8abe"
      },
      "execution_count": 35,
      "outputs": [
        {
          "output_type": "execute_result",
          "data": {
            "text/plain": [
              "0                     [Mild, to, moderate, acne, (spots)]\n",
              "1       [A, RET, 0.025%, is, a, prescription, medicine...\n",
              "2       [It, is, used, to, treat, acne, vulgaris, in, ...\n",
              "3       [It, is, used, to, treat, acne, vulgaris, in, ...\n",
              "4       [treat, the, most, severe, form, of, acne, (no...\n",
              "                              ...                        \n",
              "9715                         [used, for, treating, warts]\n",
              "9716                 [used, to, soften, the, skin, cells]\n",
              "9717                                   [used, for, scars]\n",
              "9718                                  [used, for, wounds]\n",
              "9719    [used, to, treat, and, remove, raised, warts, ...\n",
              "Name: Description, Length: 9720, dtype: object"
            ]
          },
          "metadata": {},
          "execution_count": 35
        }
      ]
    },
    {
      "cell_type": "code",
      "source": [
        "medicines['Description']\n",
        "\n",
        "medicines['Description'].apply(lambda x:x.split())\n",
        "\n",
        "medicines['Reason'] = medicines['Reason'].apply(lambda x:x.split())\n"
      ],
      "metadata": {
        "id": "W7c2zaLkIgpW"
      },
      "execution_count": 36,
      "outputs": []
    },
    {
      "cell_type": "code",
      "source": [
        "\n",
        "medicines['Description'] = medicines['Description'].apply(lambda x:x.split())\n",
        "\n",
        "medicines['Description'] = medicines['Description'].apply(lambda x:[i.replace(\" \",\"\") for i in x])\n",
        "\n",
        "medicines['Description'] = medicines['Description'].apply(lambda x:[i.replace(\" \",\"\") for i in x])\n",
        "\n",
        "medicines['tags'] = medicines['Description'] + medicines['Reason']\n"
      ],
      "metadata": {
        "id": "E4_DlhS2FMl6"
      },
      "execution_count": 37,
      "outputs": []
    },
    {
      "cell_type": "code",
      "source": [
        "# Print column names\n",
        "print(medicines.columns)\n",
        "\n",
        "new_df = medicines[['Drug_Name','Reason','tags']]\n",
        "new_df\n",
        "\n",
        "new_df['tags'].apply(lambda x:\" \".join(x))\n",
        "new_df\n",
        "\n",
        "new_df['tags'] = new_df['tags'].apply(lambda x:\" \".join(x))\n",
        "new_df\n",
        "\n",
        "new_df['tags'] = new_df['tags'].apply(lambda x:x.lower())\n",
        "new_df\n"
      ],
      "metadata": {
        "colab": {
          "base_uri": "https://localhost:8080/",
          "height": 1025
        },
        "id": "nffAS3sdFPjX",
        "outputId": "740bcada-2aac-4db2-f4d0-731cce484d16"
      },
      "execution_count": 38,
      "outputs": [
        {
          "output_type": "stream",
          "name": "stdout",
          "text": [
            "Index(['Drug_Name', 'Reason', 'Description', 'tags'], dtype='object')\n"
          ]
        },
        {
          "output_type": "stream",
          "name": "stderr",
          "text": [
            "<ipython-input-38-f39e365d7dce>:10: SettingWithCopyWarning: \n",
            "A value is trying to be set on a copy of a slice from a DataFrame.\n",
            "Try using .loc[row_indexer,col_indexer] = value instead\n",
            "\n",
            "See the caveats in the documentation: https://pandas.pydata.org/pandas-docs/stable/user_guide/indexing.html#returning-a-view-versus-a-copy\n",
            "  new_df['tags'] = new_df['tags'].apply(lambda x:\" \".join(x))\n",
            "<ipython-input-38-f39e365d7dce>:13: SettingWithCopyWarning: \n",
            "A value is trying to be set on a copy of a slice from a DataFrame.\n",
            "Try using .loc[row_indexer,col_indexer] = value instead\n",
            "\n",
            "See the caveats in the documentation: https://pandas.pydata.org/pandas-docs/stable/user_guide/indexing.html#returning-a-view-versus-a-copy\n",
            "  new_df['tags'] = new_df['tags'].apply(lambda x:x.lower())\n"
          ]
        },
        {
          "output_type": "execute_result",
          "data": {
            "text/plain": [
              "                                              Drug_Name   Reason  \\\n",
              "0                  A CN Gel(Topical) 20gmA CN Soap 75gm   [Acne]   \n",
              "1     A Ret 0.05% Gel 20gmA Ret 0.1% Gel 20gmA Ret 0...   [Acne]   \n",
              "2                                ACGEL CL NANO Gel 15gm   [Acne]   \n",
              "3                                   ACGEL NANO Gel 15gm   [Acne]   \n",
              "4                                 Acleen 1% Lotion 25ml   [Acne]   \n",
              "...                                                 ...      ...   \n",
              "9715                                T Muce Ointment 5gm  [Wound]   \n",
              "9716  Wokadine 10% Solution 100mlWokadine Solution 5...  [Wound]   \n",
              "9717                               Wokadine M Onit 10gm  [Wound]   \n",
              "9718                           Wound Fix Solution 100ml  [Wound]   \n",
              "9719                              Wounsol Ointment 15gm  [Wound]   \n",
              "\n",
              "                                                   tags  \n",
              "0                    mild to moderate acne (spots) acne  \n",
              "1     a ret 0.025% is a prescription medicine that i...  \n",
              "2     it is used to treat acne vulgaris in people 12...  \n",
              "3     it is used to treat acne vulgaris in people 12...  \n",
              "4     treat the most severe form of acne (nodular ac...  \n",
              "...                                                 ...  \n",
              "9715                      used for treating warts wound  \n",
              "9716                used to soften the skin cells wound  \n",
              "9717                               used for scars wound  \n",
              "9718                              used for wounds wound  \n",
              "9719  used to treat and remove raised warts (usually...  \n",
              "\n",
              "[9720 rows x 3 columns]"
            ],
            "text/html": [
              "\n",
              "  <div id=\"df-591ebf8e-8ccf-4362-b173-5e27bc864e47\" class=\"colab-df-container\">\n",
              "    <div>\n",
              "<style scoped>\n",
              "    .dataframe tbody tr th:only-of-type {\n",
              "        vertical-align: middle;\n",
              "    }\n",
              "\n",
              "    .dataframe tbody tr th {\n",
              "        vertical-align: top;\n",
              "    }\n",
              "\n",
              "    .dataframe thead th {\n",
              "        text-align: right;\n",
              "    }\n",
              "</style>\n",
              "<table border=\"1\" class=\"dataframe\">\n",
              "  <thead>\n",
              "    <tr style=\"text-align: right;\">\n",
              "      <th></th>\n",
              "      <th>Drug_Name</th>\n",
              "      <th>Reason</th>\n",
              "      <th>tags</th>\n",
              "    </tr>\n",
              "  </thead>\n",
              "  <tbody>\n",
              "    <tr>\n",
              "      <th>0</th>\n",
              "      <td>A CN Gel(Topical) 20gmA CN Soap 75gm</td>\n",
              "      <td>[Acne]</td>\n",
              "      <td>mild to moderate acne (spots) acne</td>\n",
              "    </tr>\n",
              "    <tr>\n",
              "      <th>1</th>\n",
              "      <td>A Ret 0.05% Gel 20gmA Ret 0.1% Gel 20gmA Ret 0...</td>\n",
              "      <td>[Acne]</td>\n",
              "      <td>a ret 0.025% is a prescription medicine that i...</td>\n",
              "    </tr>\n",
              "    <tr>\n",
              "      <th>2</th>\n",
              "      <td>ACGEL CL NANO Gel 15gm</td>\n",
              "      <td>[Acne]</td>\n",
              "      <td>it is used to treat acne vulgaris in people 12...</td>\n",
              "    </tr>\n",
              "    <tr>\n",
              "      <th>3</th>\n",
              "      <td>ACGEL NANO Gel 15gm</td>\n",
              "      <td>[Acne]</td>\n",
              "      <td>it is used to treat acne vulgaris in people 12...</td>\n",
              "    </tr>\n",
              "    <tr>\n",
              "      <th>4</th>\n",
              "      <td>Acleen 1% Lotion 25ml</td>\n",
              "      <td>[Acne]</td>\n",
              "      <td>treat the most severe form of acne (nodular ac...</td>\n",
              "    </tr>\n",
              "    <tr>\n",
              "      <th>...</th>\n",
              "      <td>...</td>\n",
              "      <td>...</td>\n",
              "      <td>...</td>\n",
              "    </tr>\n",
              "    <tr>\n",
              "      <th>9715</th>\n",
              "      <td>T Muce Ointment 5gm</td>\n",
              "      <td>[Wound]</td>\n",
              "      <td>used for treating warts wound</td>\n",
              "    </tr>\n",
              "    <tr>\n",
              "      <th>9716</th>\n",
              "      <td>Wokadine 10% Solution 100mlWokadine Solution 5...</td>\n",
              "      <td>[Wound]</td>\n",
              "      <td>used to soften the skin cells wound</td>\n",
              "    </tr>\n",
              "    <tr>\n",
              "      <th>9717</th>\n",
              "      <td>Wokadine M Onit 10gm</td>\n",
              "      <td>[Wound]</td>\n",
              "      <td>used for scars wound</td>\n",
              "    </tr>\n",
              "    <tr>\n",
              "      <th>9718</th>\n",
              "      <td>Wound Fix Solution 100ml</td>\n",
              "      <td>[Wound]</td>\n",
              "      <td>used for wounds wound</td>\n",
              "    </tr>\n",
              "    <tr>\n",
              "      <th>9719</th>\n",
              "      <td>Wounsol Ointment 15gm</td>\n",
              "      <td>[Wound]</td>\n",
              "      <td>used to treat and remove raised warts (usually...</td>\n",
              "    </tr>\n",
              "  </tbody>\n",
              "</table>\n",
              "<p>9720 rows × 3 columns</p>\n",
              "</div>\n",
              "    <div class=\"colab-df-buttons\">\n",
              "\n",
              "  <div class=\"colab-df-container\">\n",
              "    <button class=\"colab-df-convert\" onclick=\"convertToInteractive('df-591ebf8e-8ccf-4362-b173-5e27bc864e47')\"\n",
              "            title=\"Convert this dataframe to an interactive table.\"\n",
              "            style=\"display:none;\">\n",
              "\n",
              "  <svg xmlns=\"http://www.w3.org/2000/svg\" height=\"24px\" viewBox=\"0 -960 960 960\">\n",
              "    <path d=\"M120-120v-720h720v720H120Zm60-500h600v-160H180v160Zm220 220h160v-160H400v160Zm0 220h160v-160H400v160ZM180-400h160v-160H180v160Zm440 0h160v-160H620v160ZM180-180h160v-160H180v160Zm440 0h160v-160H620v160Z\"/>\n",
              "  </svg>\n",
              "    </button>\n",
              "\n",
              "  <style>\n",
              "    .colab-df-container {\n",
              "      display:flex;\n",
              "      gap: 12px;\n",
              "    }\n",
              "\n",
              "    .colab-df-convert {\n",
              "      background-color: #E8F0FE;\n",
              "      border: none;\n",
              "      border-radius: 50%;\n",
              "      cursor: pointer;\n",
              "      display: none;\n",
              "      fill: #1967D2;\n",
              "      height: 32px;\n",
              "      padding: 0 0 0 0;\n",
              "      width: 32px;\n",
              "    }\n",
              "\n",
              "    .colab-df-convert:hover {\n",
              "      background-color: #E2EBFA;\n",
              "      box-shadow: 0px 1px 2px rgba(60, 64, 67, 0.3), 0px 1px 3px 1px rgba(60, 64, 67, 0.15);\n",
              "      fill: #174EA6;\n",
              "    }\n",
              "\n",
              "    .colab-df-buttons div {\n",
              "      margin-bottom: 4px;\n",
              "    }\n",
              "\n",
              "    [theme=dark] .colab-df-convert {\n",
              "      background-color: #3B4455;\n",
              "      fill: #D2E3FC;\n",
              "    }\n",
              "\n",
              "    [theme=dark] .colab-df-convert:hover {\n",
              "      background-color: #434B5C;\n",
              "      box-shadow: 0px 1px 3px 1px rgba(0, 0, 0, 0.15);\n",
              "      filter: drop-shadow(0px 1px 2px rgba(0, 0, 0, 0.3));\n",
              "      fill: #FFFFFF;\n",
              "    }\n",
              "  </style>\n",
              "\n",
              "    <script>\n",
              "      const buttonEl =\n",
              "        document.querySelector('#df-591ebf8e-8ccf-4362-b173-5e27bc864e47 button.colab-df-convert');\n",
              "      buttonEl.style.display =\n",
              "        google.colab.kernel.accessAllowed ? 'block' : 'none';\n",
              "\n",
              "      async function convertToInteractive(key) {\n",
              "        const element = document.querySelector('#df-591ebf8e-8ccf-4362-b173-5e27bc864e47');\n",
              "        const dataTable =\n",
              "          await google.colab.kernel.invokeFunction('convertToInteractive',\n",
              "                                                    [key], {});\n",
              "        if (!dataTable) return;\n",
              "\n",
              "        const docLinkHtml = 'Like what you see? Visit the ' +\n",
              "          '<a target=\"_blank\" href=https://colab.research.google.com/notebooks/data_table.ipynb>data table notebook</a>'\n",
              "          + ' to learn more about interactive tables.';\n",
              "        element.innerHTML = '';\n",
              "        dataTable['output_type'] = 'display_data';\n",
              "        await google.colab.output.renderOutput(dataTable, element);\n",
              "        const docLink = document.createElement('div');\n",
              "        docLink.innerHTML = docLinkHtml;\n",
              "        element.appendChild(docLink);\n",
              "      }\n",
              "    </script>\n",
              "  </div>\n",
              "\n",
              "\n",
              "<div id=\"df-df5663d8-356e-401f-bb10-8e731b292143\">\n",
              "  <button class=\"colab-df-quickchart\" onclick=\"quickchart('df-df5663d8-356e-401f-bb10-8e731b292143')\"\n",
              "            title=\"Suggest charts\"\n",
              "            style=\"display:none;\">\n",
              "\n",
              "<svg xmlns=\"http://www.w3.org/2000/svg\" height=\"24px\"viewBox=\"0 0 24 24\"\n",
              "     width=\"24px\">\n",
              "    <g>\n",
              "        <path d=\"M19 3H5c-1.1 0-2 .9-2 2v14c0 1.1.9 2 2 2h14c1.1 0 2-.9 2-2V5c0-1.1-.9-2-2-2zM9 17H7v-7h2v7zm4 0h-2V7h2v10zm4 0h-2v-4h2v4z\"/>\n",
              "    </g>\n",
              "</svg>\n",
              "  </button>\n",
              "\n",
              "<style>\n",
              "  .colab-df-quickchart {\n",
              "      --bg-color: #E8F0FE;\n",
              "      --fill-color: #1967D2;\n",
              "      --hover-bg-color: #E2EBFA;\n",
              "      --hover-fill-color: #174EA6;\n",
              "      --disabled-fill-color: #AAA;\n",
              "      --disabled-bg-color: #DDD;\n",
              "  }\n",
              "\n",
              "  [theme=dark] .colab-df-quickchart {\n",
              "      --bg-color: #3B4455;\n",
              "      --fill-color: #D2E3FC;\n",
              "      --hover-bg-color: #434B5C;\n",
              "      --hover-fill-color: #FFFFFF;\n",
              "      --disabled-bg-color: #3B4455;\n",
              "      --disabled-fill-color: #666;\n",
              "  }\n",
              "\n",
              "  .colab-df-quickchart {\n",
              "    background-color: var(--bg-color);\n",
              "    border: none;\n",
              "    border-radius: 50%;\n",
              "    cursor: pointer;\n",
              "    display: none;\n",
              "    fill: var(--fill-color);\n",
              "    height: 32px;\n",
              "    padding: 0;\n",
              "    width: 32px;\n",
              "  }\n",
              "\n",
              "  .colab-df-quickchart:hover {\n",
              "    background-color: var(--hover-bg-color);\n",
              "    box-shadow: 0 1px 2px rgba(60, 64, 67, 0.3), 0 1px 3px 1px rgba(60, 64, 67, 0.15);\n",
              "    fill: var(--button-hover-fill-color);\n",
              "  }\n",
              "\n",
              "  .colab-df-quickchart-complete:disabled,\n",
              "  .colab-df-quickchart-complete:disabled:hover {\n",
              "    background-color: var(--disabled-bg-color);\n",
              "    fill: var(--disabled-fill-color);\n",
              "    box-shadow: none;\n",
              "  }\n",
              "\n",
              "  .colab-df-spinner {\n",
              "    border: 2px solid var(--fill-color);\n",
              "    border-color: transparent;\n",
              "    border-bottom-color: var(--fill-color);\n",
              "    animation:\n",
              "      spin 1s steps(1) infinite;\n",
              "  }\n",
              "\n",
              "  @keyframes spin {\n",
              "    0% {\n",
              "      border-color: transparent;\n",
              "      border-bottom-color: var(--fill-color);\n",
              "      border-left-color: var(--fill-color);\n",
              "    }\n",
              "    20% {\n",
              "      border-color: transparent;\n",
              "      border-left-color: var(--fill-color);\n",
              "      border-top-color: var(--fill-color);\n",
              "    }\n",
              "    30% {\n",
              "      border-color: transparent;\n",
              "      border-left-color: var(--fill-color);\n",
              "      border-top-color: var(--fill-color);\n",
              "      border-right-color: var(--fill-color);\n",
              "    }\n",
              "    40% {\n",
              "      border-color: transparent;\n",
              "      border-right-color: var(--fill-color);\n",
              "      border-top-color: var(--fill-color);\n",
              "    }\n",
              "    60% {\n",
              "      border-color: transparent;\n",
              "      border-right-color: var(--fill-color);\n",
              "    }\n",
              "    80% {\n",
              "      border-color: transparent;\n",
              "      border-right-color: var(--fill-color);\n",
              "      border-bottom-color: var(--fill-color);\n",
              "    }\n",
              "    90% {\n",
              "      border-color: transparent;\n",
              "      border-bottom-color: var(--fill-color);\n",
              "    }\n",
              "  }\n",
              "</style>\n",
              "\n",
              "  <script>\n",
              "    async function quickchart(key) {\n",
              "      const quickchartButtonEl =\n",
              "        document.querySelector('#' + key + ' button');\n",
              "      quickchartButtonEl.disabled = true;  // To prevent multiple clicks.\n",
              "      quickchartButtonEl.classList.add('colab-df-spinner');\n",
              "      try {\n",
              "        const charts = await google.colab.kernel.invokeFunction(\n",
              "            'suggestCharts', [key], {});\n",
              "      } catch (error) {\n",
              "        console.error('Error during call to suggestCharts:', error);\n",
              "      }\n",
              "      quickchartButtonEl.classList.remove('colab-df-spinner');\n",
              "      quickchartButtonEl.classList.add('colab-df-quickchart-complete');\n",
              "    }\n",
              "    (() => {\n",
              "      let quickchartButtonEl =\n",
              "        document.querySelector('#df-df5663d8-356e-401f-bb10-8e731b292143 button');\n",
              "      quickchartButtonEl.style.display =\n",
              "        google.colab.kernel.accessAllowed ? 'block' : 'none';\n",
              "    })();\n",
              "  </script>\n",
              "</div>\n",
              "    </div>\n",
              "  </div>\n"
            ],
            "application/vnd.google.colaboratory.intrinsic+json": {
              "type": "dataframe",
              "variable_name": "new_df",
              "summary": "{\n  \"name\": \"new_df\",\n  \"rows\": 9720,\n  \"fields\": [\n    {\n      \"column\": \"Drug_Name\",\n      \"properties\": {\n        \"dtype\": \"string\",\n        \"num_unique_values\": 9626,\n        \"samples\": [\n          \"Signolol SR 40mg Tablet 10'S\",\n          \"Aziwin Xl 100mg Syrup 30ml\",\n          \"Acceclowoc TH 8mg Tablet 10'S\"\n        ],\n        \"semantic_type\": \"\",\n        \"description\": \"\"\n      }\n    },\n    {\n      \"column\": \"Reason\",\n      \"properties\": {\n        \"dtype\": \"object\",\n        \"semantic_type\": \"\",\n        \"description\": \"\"\n      }\n    },\n    {\n      \"column\": \"tags\",\n      \"properties\": {\n        \"dtype\": \"category\",\n        \"num_unique_values\": 316,\n        \"samples\": [\n          \"\\u00e2 management of melasma, chlosma and post inflammatory hyperpigmentation hyperpigmentation\",\n          \"\\u00e2 improve the appearance of fine lines allergies\",\n          \"used to treat gout gout\"\n        ],\n        \"semantic_type\": \"\",\n        \"description\": \"\"\n      }\n    }\n  ]\n}"
            }
          },
          "metadata": {},
          "execution_count": 38
        },
        {
          "output_type": "stream",
          "name": "stderr",
          "text": [
            "WARNING:root:Quickchart encountered unexpected dtypes in columns: \"(['Reason'],)\"\n"
          ]
        },
        {
          "output_type": "stream",
          "name": "stdout",
          "text": [
            "No charts were generated by quickchart\n"
          ]
        }
      ]
    },
    {
      "cell_type": "code",
      "source": [
        "from sklearn.feature_extraction.text import CountVectorizer\n",
        "cv = CountVectorizer(stop_words='english',max_features=5000)\n",
        "def stem(text):\n",
        "  y = []\n",
        "\n",
        "  for i in text.split():\n",
        "    y.append(ps.stem(i))\n",
        "\n",
        "  return \" \".join(y)\n",
        "\n"
      ],
      "metadata": {
        "id": "KJ0kmf7yMA03"
      },
      "execution_count": 39,
      "outputs": []
    },
    {
      "cell_type": "code",
      "source": [
        "new_df['tags'] = new_df['tags'].apply(stem)\n",
        "\n",
        "cv.fit_transform(new_df['tags']).toarray().shape\n",
        "vectors = cv.fit_transform(new_df['tags']).toarray()\n",
        "feature_names = cv.get_feature_names_out()"
      ],
      "metadata": {
        "colab": {
          "base_uri": "https://localhost:8080/"
        },
        "id": "RVLRd72eMG13",
        "outputId": "b919cd71-14c8-4cd8-8852-e7df217ff41e"
      },
      "execution_count": 40,
      "outputs": [
        {
          "output_type": "stream",
          "name": "stderr",
          "text": [
            "<ipython-input-40-e5869b9c8592>:1: SettingWithCopyWarning: \n",
            "A value is trying to be set on a copy of a slice from a DataFrame.\n",
            "Try using .loc[row_indexer,col_indexer] = value instead\n",
            "\n",
            "See the caveats in the documentation: https://pandas.pydata.org/pandas-docs/stable/user_guide/indexing.html#returning-a-view-versus-a-copy\n",
            "  new_df['tags'] = new_df['tags'].apply(stem)\n"
          ]
        }
      ]
    },
    {
      "cell_type": "code",
      "source": [
        "# Now you can access the feature names\n",
        "print(feature_names)\n",
        "\n",
        "from sklearn.metrics.pairwise import cosine_similarity\n",
        "cosine_similarity(vectors)\n",
        "similarity = cosine_similarity(vectors)\n",
        "similarity[1]\n",
        "\n",
        "def recommend(medicine):\n",
        "    medicine_index = new_df[new_df['Drug_Name'] == medicine].index[0]\n",
        "    distances = similarity[medicine_index]\n",
        "    medicines_list = sorted(list(enumerate(distances)),reverse=True,key=lambda x:x[1])[1:6]\n",
        "\n",
        "    for i in medicines_list:\n",
        "        print(new_df.iloc[i[0]].Drug_Name)\n",
        "\n",
        "print(\"--------------------------------\")\n",
        "\n",
        "recommend(\"Paracetamol 125mg Syrup 60mlParacetamol 500mg Tablet 10'S\")\n",
        "\n",
        "\n",
        "print(\"--------------------------------\")\n",
        "import pickle\n",
        "pickle.dump(new_df.to_dict(),open('medicine_dict.pkl','wb'))\n",
        "pickle.dump(similarity,open('similarity.pkl','wb'))\n",
        "\n",
        "\n"
      ],
      "metadata": {
        "colab": {
          "base_uri": "https://localhost:8080/"
        },
        "id": "4fjyF3bc4vrG",
        "outputId": "0e160c63-993d-40a9-ec34-fea897d8e15c"
      },
      "execution_count": 41,
      "outputs": [
        {
          "output_type": "stream",
          "name": "stdout",
          "text": [
            "['025' '12' '16' '18' 'abdomin' 'abl' 'ach' 'acid' 'acn' 'acne' 'acquir'\n",
            " 'action' 'activ' 'acut' 'acute' 'adequ' 'adhd' 'adjunct' 'adolesc'\n",
            " 'adult' 'adults' 'affect' 'ag' 'age' 'aids' 'allerg' 'allergen' 'allergi'\n",
            " 'allow' 'alon' 'alzheim' 'alzheimer' 'alzheimerâ' 'amoebiasi' 'anaemia'\n",
            " 'anal' 'angina' 'angl' 'ani' 'ankylos' 'anorexia' 'anoth' 'anti'\n",
            " 'antioxid' 'antipsychot' 'antiretrovir' 'anxieti' 'anxiou' 'anxious'\n",
            " 'apnoea' 'appear' 'appetit' 'appetite' 'appli' 'appropri' 'area'\n",
            " 'arrhythmia' 'arrhythmiasi' 'arteri' 'arthralgia' 'arthriti' 'associ'\n",
            " 'atherothrombot' 'athleteâ' 'atop' 'atrial' 'attack' 'awak' 'b1' 'b2'\n",
            " 'b3' 'b5' 'b6' 'babi' 'backache' 'bacteri' 'bacteria' 'balanc'\n",
            " 'balanitis' 'bandag' 'becom' 'behaviour' 'beliefs' 'benefit' 'beta'\n",
            " 'biliari' 'biotin' 'bite' 'blackhead' 'blackheads' 'bleaches' 'bleed'\n",
            " 'bloating' 'block' 'blood' 'bodi' 'bodyâ' 'bon' 'bone' 'bones' 'bowel'\n",
            " 'brain' 'breakdown' 'breath' 'brighten' 'bronchiti' 'brown' 'bursitis'\n",
            " 'calcium' 'calm' 'cancer' 'candid' 'candidiasis' 'canâ' 'carbohydr'\n",
            " 'cardiovascular' 'care' 'carrier' 'cartilag' 'case' 'cases' 'cataract'\n",
            " 'caus' 'cavity' 'cell' 'certain' 'chanc' 'chang' 'characteris' 'chemic'\n",
            " 'chemotherapi' 'chest' 'chickenpox' 'childhood' 'children' 'chlosma'\n",
            " 'cholesterol' 'chronic' 'clean' 'cleaner' 'cleanser' 'clear' 'clot' 'cmv'\n",
            " 'cold' 'colds' 'colic' 'colon' 'colorect' 'coma' 'combin' 'common'\n",
            " 'complet' 'complexion' 'concomit' 'condit' 'conditions' 'confused'\n",
            " 'confusion' 'congestion' 'conjunct' 'consciousness' 'consid' 'consist'\n",
            " 'constip' 'constipation' 'constipationâ' 'continu' 'contracept' 'control'\n",
            " 'contusion' 'convent' 'convulsion' 'corpori' 'corticosteroid' 'cough'\n",
            " 'cramp' 'cream' 'cruri' 'cushion' 'cycl' 'cytomegaloviru' 'cytoprotect'\n",
            " 'd3' 'daili' 'damag' 'dandruff' 'dark' 'death' 'decreas' 'defici'\n",
            " 'degrad' 'degre' 'delay' 'demand' 'dementia' 'dental' 'deposit' 'depress'\n",
            " 'depressed' 'dermat' 'deterg' 'diabet' 'diagnost' 'diarrhea' 'diarrhoea'\n",
            " 'diet' 'differ' 'difficult' 'difficulti' 'digest' 'digestion' 'dilate'\n",
            " 'discolor' 'discoloured' 'diseas' 'disord' 'disorder' 'disorders'\n",
            " 'displac' 'distens' 'dizzi' 'doctor' 'doe' 'drain' 'drained' 'dri' 'drop'\n",
            " 'drowsi' 'drugs' 'dull' 'dure' 'dysmenorrhea' 'ear' 'ears' 'eczema'\n",
            " 'effect' 'effects' 'elbow' 'element' 'emot' 'encephalopathi'\n",
            " 'endometriosi' 'energi' 'energy' 'enhanc' 'enlarg' 'enzym' 'enzyme'\n",
            " 'epicondylitis' 'episod' 'especi' 'essenti' 'event' 'excess' 'exercis'\n",
            " 'exfoli' 'exocrin' 'extern' 'extra' 'eye' 'eyes' 'face' 'fade' 'fail'\n",
            " 'failur' 'failure' 'fast' 'fat' 'fatigue' 'fats' 'fatti' 'febril' 'feed'\n",
            " 'feel' 'feet' 'fever' 'feverish' 'fibril' 'fine' 'fissur' 'flat' 'flatul'\n",
            " 'flatulence' 'flexibl' 'flow' 'flu' 'fluid' 'flutter' 'focus' 'folic'\n",
            " 'follow' 'food' 'foot' 'form' 'format' 'free' 'fresh' 'friction'\n",
            " 'function' 'fungal' 'fungi' 'fungu' 'gain' 'gener' 'genit' 'gland'\n",
            " 'glaucoma' 'glow' 'gonorrhoea' 'good' 'gout' 'gradual' 'gravi' 'growth'\n",
            " 'guilty' 'gum' 'ha' 'haematopoiesi' 'haemorrhoid' 'haemorrhoidectomi'\n",
            " 'haemorrhoids' 'hair' 'hallucinations' 'hands' 'hard' 'hay' 'head'\n",
            " 'headach' 'headache' 'heal' 'health' 'healthy' 'hear' 'hearing' 'heart'\n",
            " 'heartbeat' 'help' 'hepat' 'herp' 'high' 'hiv' 'hives' 'hormon' 'hospit'\n",
            " 'human' 'hygien' 'hypercalcaemia' 'hyperparathyroid' 'hyperpigment'\n",
            " 'hyperpigmentation' 'hypertens' 'hypertension' 'hyperthyroid'\n",
            " 'hypertrophi' 'hypnosi' 'hypotens' 'hypothyroid' 'hypothyroidism'\n",
            " 'hyroid' 'ibs' 'immun' 'immunodefici' 'improv' 'improvesâ' 'includ'\n",
            " 'incoher' 'incomplet' 'increas' 'indic' 'indigest' 'induc' 'infect'\n",
            " 'infection' 'infections' 'infest' 'inflamm' 'inflammationâ'\n",
            " 'inflammatori' 'influenza' 'infrequ' 'inguinalis' 'inhal' 'inhibitor'\n",
            " 'injuri' 'inner' 'insect' 'insid' 'insomnia' 'insufficiencyâ' 'integr'\n",
            " 'intens' 'interdigit' 'intern' 'interrupt' 'intestin' 'intestinal'\n",
            " 'intoler' 'invas' 'involuntari' 'iodine' 'iritis' 'iron' 'irrit' 'isâ'\n",
            " 'itch' 'itâ' 'jewelleri' 'jock' 'joint' 'kidney' 'kit' 'knees' 'known'\n",
            " 'lack' 'lactat' 'lead' 'learning' 'left' 'level' 'lice' 'life'\n",
            " 'ligaments' 'line' 'lip' 'liquid' 'liv' 'live' 'liver' 'long' 'look'\n",
            " 'lose' 'loss' 'lotion' 'lower' 'lowersâ' 'lowerâ' 'lung' 'lvh' 'mainli'\n",
            " 'maintain' 'major' 'make' 'malari' 'malaria' 'malignancies' 'manag'\n",
            " 'manganese' 'mani' 'manuum' 'marrow' 'medic' 'medicin' 'melanin'\n",
            " 'melasma' 'mellitu' 'memori' 'men' 'mening' 'menopaus' 'mental' 'metabol'\n",
            " 'methyl' 'micronutri' 'migrain' 'migraine' 'mild' 'milk' 'miner' 'minor'\n",
            " 'mistaken' 'mobil' 'moder' 'moderate' 'moistur' 'molybdenum' 'motion'\n",
            " 'movement' 'movements' 'muscl' 'muscular' 'musculoskelet' 'myalgia'\n",
            " 'myasthenia' 'mydriasi' 'myeloid' 'narrow' 'nasal' 'natur' 'nausea'\n",
            " 'need' 'nephropathy' 'nerv' 'nervosa' 'nervousness' 'nettl' 'neuralgia'\n",
            " 'neutral' 'newborns' 'nodular' 'non' 'normal' 'nose' 'nutrient' 'nutrit'\n",
            " 'occur' 'ocular' 'ofâ' 'oili' 'older' 'onli' 'op' 'open' 'oper' 'oral'\n",
            " 'origin' 'osteoarthr' 'osteodystrophy' 'osteoporosi' 'oxid' 'oxidation'\n",
            " 'pah' 'pain' 'pancrea' 'paralys' 'parathyroid' 'parkinson' 'parkinsonâ'\n",
            " 'passag' 'patch' 'patches' 'patient' 'patientsâ' 'pectori' 'pectoris'\n",
            " 'pedis' 'pelvic' 'penil' 'peopl' 'peptid' 'period' 'physic' 'piles'\n",
            " 'pimpl' 'pimple' 'pityriasi' 'polysaccharid' 'portal' 'post' 'potent'\n",
            " 'power' 'pre' 'prednisolon' 'pregnanc' 'prematur' 'preoper' 'prescrib'\n",
            " 'prescript' 'present' 'pressur' 'prevent' 'prexia' 'primari' 'prinzmet'\n",
            " 'problem' 'procedur' 'process' 'proctiti' 'produc' 'product' 'progress'\n",
            " 'prolactin' 'promot' 'properti' 'protect' 'provid' 'pseudo' 'psychosi'\n",
            " 'psychosomat' 'pulmonari' 'pupil' 'pyrexia' 'rabi' 'radicals'\n",
            " 'radiculitis' 'rais' 'rarer' 'rash' 'react' 'reaction' 'receiv'\n",
            " 'recommend' 'red' 'reduc' 'reduct' 'refer' 'regener' 'regimen' 'relat'\n",
            " 'releief' 'relief' 'reliev' 'reliv' 'remov' 'renal' 'repair' 'replac'\n",
            " 'reproduct' 'resist' 'respiratori' 'respond' 'respons' 'restor' 'ret'\n",
            " 'retin' 'rheumat' 'ring' 'ringworm' 'root' 'rosacea' 'scabi' 'scali'\n",
            " 'scalp' 'scar' 'schizophren' 'schizophrenia' 'seborrh' 'sed' 'sedat'\n",
            " 'sens' 'sever' 'shingl' 'short' 'sick' 'sickness' 'silki' 'simpl'\n",
            " 'simplex' 'sinusitis' 'skelet' 'skin' 'skinâ' 'sleep' 'slow' 'small'\n",
            " 'smoke' 'smooth' 'soaps' 'soar' 'soft' 'soften' 'soothen' 'sore' 'sores'\n",
            " 'spasmod' 'speech' 'speed' 'spondyl' 'spot' 'spots' 'sprain' 'spread'\n",
            " 'stabil' 'starch' 'start' 'state' 'steroids' 'stiff' 'stomach' 'stools'\n",
            " 'stop' 'strains' 'strengthen' 'stroke' 'structur' 'substanc' 'suffer'\n",
            " 'sugar' 'sunburn' 'sunscreen' 'suppl' 'supplement' 'support' 'surgeri'\n",
            " 'surgeryâ' 'surgic' 'suspiciousness' 'sweat' 'swell' 'swelling' 'swollen'\n",
            " 'symptom' 'symptomat' 'symptoms' 'syndrom' 'synovi' 'synovitis'\n",
            " 'synthesi' 'synthet' 'syphilis' 'tablet' 'tachycardia' 'task'\n",
            " 'temperature' 'tender' 'tendonitis' 'tens' 'term' 'textur' 'therapi'\n",
            " 'therebi' 'thi' 'thing' 'throat' 'thrombolysi' 'thrush' 'thu' 'thyroid'\n",
            " 'thyroxin' 'time' 'tinea' 'tinnitus' 'tissu' 'tissues' 'toe' 'tone'\n",
            " 'tonsil' 'tonsilitis' 'tonsillectomi' 'toothach' 'toothache' 'topic'\n",
            " 'trace' 'tract' 'transmit' 'transplant' 'trauma' 'traumat' 'travel'\n",
            " 'treat' 'treatment' 'treatsâ' 'treatâ' 'tremor' 'triglycerid'\n",
            " 'tubercular' 'type' 'ulcer' 'unabl' 'unbalanc' 'uncompl' 'uneven'\n",
            " 'unstabl' 'unusu' 'unwant' 'upper' 'uptak' 'urate' 'uretericâ' 'uric'\n",
            " 'urinaryâ' 'use' 'uses' 'usual' 'uveiti' 'vaccin' 'vagin' 'variant'\n",
            " 'varieti' 'ventricular' 'verruca' 'versicolor' 'vertigo' 'vessel' 'viral'\n",
            " 'viru' 'virus' 'vitamin' 'vitamins' 'volume' 'vomit' 'vulgari'\n",
            " 'vulgarisâ' 'wall' 'wart' 'wash' 'weak' 'weaken' 'weight' 'wet' 'whichâ'\n",
            " 'whilst' 'white' 'widen' 'withdrawn' 'womb' 'women' 'work' 'worsen'\n",
            " 'wound' 'wrinkl' 'wrinkles' 'year' 'younger' 'zinc' 'œpancreat']\n",
            "--------------------------------\n",
            "Oxypamol D Tablet 10'S\n",
            "Pacimol MF Tablet 10'S\n",
            "Painil Plus 100/500mg Tablet 10'S\n",
            "Pamagin Plus Gel 30gm\n",
            "Paracetamol 125mg Syrup 60mlParacetamol 500mg Tablet 10'S\n",
            "--------------------------------\n"
          ]
        }
      ]
    },
    {
      "cell_type": "code",
      "source": [
        "print(\"--------------------------------\")\n",
        "\n",
        "recommend(\"AMTERICIN 50mg Injection 50ml\")\n",
        "\n",
        "print(\"--------------------------------\")\n",
        "\n",
        "recommend(\"Baraclude 1mg Tablet 10'S\")\n",
        "\n",
        "print(\"--------------------------------\")\n",
        "\n",
        "recommend(\"Dolentia AQ Injection 1ml\")\n",
        "\n",
        "print(\"--------------------------------\")\n",
        "\n",
        "recommend(\"Dolo Cold Tablet 10'S\")\n",
        "\n",
        "print(\"--------------------------------\")\n",
        "\n",
        "recommend(\"Placentrex V Gel 20gm\")\n",
        "\n",
        "print(\"--------------------------------\")\n"
      ],
      "metadata": {
        "colab": {
          "base_uri": "https://localhost:8080/"
        },
        "id": "xueitrVOMcdA",
        "outputId": "44b2379f-afc0-4481-9876-f4f7665efe5d"
      },
      "execution_count": 42,
      "outputs": [
        {
          "output_type": "stream",
          "name": "stdout",
          "text": [
            "--------------------------------\n",
            "AF K Lotion 60ml\n",
            "Albol 200mg Suspension 10ml\n",
            "Amfocin Cream 10gmAmfocin Cream 30gm\n",
            "Amoron Cream 30gm\n",
            "Ampholyn 50mg Injection 1'S\n",
            "--------------------------------\n",
            "Baraclude 1mg Tablet 10'S\n",
            "Cymgal 450mg Tablet 10'S\n",
            "Duovir Tablet 60'SDuovir N Tablet 30'SDuovir Tablet 10'S\n",
            "Virson Gel 5gm\n",
            "Zidovir 300mg Tablet 10'SZidovir 300mg Capsule 60'SZidovir 100mg Capsule 100'SZidovir 100mg Capsule 10'SZidovir 50mg Solution 100mlZidovir 250mg Capsule 100'S\n",
            "--------------------------------\n",
            "Abmef 100Mg Oral Suspension 60ml\n",
            "Acceclowoc TH 8mg Tablet 10'S\n",
            "Accewodol P Tablet 10'S\n",
            "ACE Q Para Tablet 10'S\n",
            "ACECARE SP Tablet 10's\n",
            "--------------------------------\n",
            "AC 375mg Tablet 6'SAC 100mg Tablet 10'S\n",
            "Accemol Tablet 10'S\n",
            "ACE Proxyvon Gel 30gm\n",
            "Acebloc P Tablet 10'S\n",
            "Aceclo Plus Tablet 15'S\n",
            "--------------------------------\n",
            "Betadine Antiseptic Ointment 20gm\n",
            "Burnheal Dusting Powder 10gm\n",
            "Cetrilak Strong Solution 100ml\n",
            "Drez 5Cm Tulle\n",
            "Hexilak Gel 20gmHexilak Gel 10gm\n",
            "--------------------------------\n"
          ]
        }
      ]
    },
    {
      "cell_type": "code",
      "source": [
        "import pandas as pd\n",
        "from sklearn.feature_extraction.text import CountVectorizer\n",
        "from sklearn.metrics.pairwise import cosine_similarity\n",
        "import pickle\n"
      ],
      "metadata": {
        "id": "OsKr7mVDSkGz"
      },
      "execution_count": 43,
      "outputs": []
    },
    {
      "cell_type": "code",
      "source": [
        "# Load the data\n",
        "medicines = pd.read_csv(\"ML-Model/medicine.csv\")\n",
        "\n",
        "# Drop unnecessary columns and handle missing values\n",
        "medicines.drop(columns=['index'], inplace=True)\n",
        "medicines.fillna(0, inplace=True)\n",
        "\n",
        "# Combine the 'Description' and 'Reason' columns to create 'tags'\n",
        "medicines['tags'] = medicines['Description'] + medicines['Reason']\n",
        "\n",
        "# Convert 'tags' to lowercase and apply stemming\n",
        "from nltk.stem.porter import PorterStemmer\n",
        "ps = PorterStemmer()\n",
        "medicines['tags'] = medicines['tags'].apply(lambda x: ' '.join([ps.stem(word) for word in x.lower().split()]))\n"
      ],
      "metadata": {
        "id": "3s0fLz550MRi"
      },
      "execution_count": 44,
      "outputs": []
    },
    {
      "cell_type": "code",
      "source": [
        "# Load the similarity matrix and medicine dictionary\n",
        "similarity = pickle.load(open('similarity.pkl', 'rb'))\n",
        "medicine_dict = pickle.load(open('medicine_dict.pkl', 'rb'))\n",
        "\n",
        "def recommend_medicines(reason):\n",
        "    # Stem and lowercase the reason\n",
        "    stemmed_reason = ' '.join([ps.stem(word) for word in reason.lower().split()])\n",
        "\n",
        "    # Find the index of the reason in the medicine dictionary\n",
        "    reason_index = None\n",
        "    for idx, tags in medicine_dict['tags'].items():\n",
        "        if stemmed_reason in tags:\n",
        "            reason_index = idx\n",
        "            break\n",
        "\n",
        "    # If the reason is found, recommend medicines based on similarity\n",
        "    if reason_index is not None:\n",
        "        distances = similarity[reason_index]\n",
        "        medicines_list = sorted(list(enumerate(distances)), reverse=True, key=lambda x: x[1])[1:6]\n",
        "\n",
        "        recommended_medicines = []\n",
        "        for i in medicines_list:\n",
        "            recommended_medicines.append(medicine_dict['Drug_Name'][i[0]])\n",
        "\n",
        "        return recommended_medicines\n",
        "    else:\n",
        "        return \"No medicines found for the given reason.\""
      ],
      "metadata": {
        "id": "qqEYSKTH0Ve0"
      },
      "execution_count": 45,
      "outputs": []
    },
    {
      "cell_type": "code",
      "source": [
        "\n",
        "# Example usage\n",
        "reason = \"headache\"\n",
        "recommended_medicines = recommend_medicines(reason)\n",
        "print(\"Recommended Medicines for\", reason + \":\")\n",
        "for medicine in recommended_medicines:\n",
        "    print(medicine)\n",
        "\n",
        "\n"
      ],
      "metadata": {
        "id": "5-3C3PYs0awv",
        "colab": {
          "base_uri": "https://localhost:8080/"
        },
        "outputId": "ce19ba7c-c6bd-48c1-82bd-fb73da50ddf5"
      },
      "execution_count": 46,
      "outputs": [
        {
          "output_type": "stream",
          "name": "stdout",
          "text": [
            "Recommended Medicines for headache:\n",
            "Aedon 10mg Tablet 14'SAedon 5mg Tablet 14'S\n",
            "Alam 0.50mg Tablet 10'SAlam 0.25mg Tablet 10'S\n",
            "Alark 0.25mg Tablet 10'SAlark 0.5mg Tablet 10'S\n",
            "Alarm 0.50mg Tablet 10'S\n",
            "Albium 10mg Tablet 10'S\n"
          ]
        }
      ]
    },
    {
      "cell_type": "code",
      "source": [
        "# Display all unique reasons\n",
        "unique_reasons = medicines['Reason'].unique()\n",
        "print(\"List of reasons for medication recommendation:\")\n",
        "for i, reason in enumerate(unique_reasons, start=1):\n",
        "    print(f\"{i}. {reason}\")\n"
      ],
      "metadata": {
        "colab": {
          "base_uri": "https://localhost:8080/"
        },
        "id": "lezB3MumrR4n",
        "outputId": "16686476-d1ff-43ee-ba06-d830d8385ac1"
      },
      "execution_count": 48,
      "outputs": [
        {
          "output_type": "stream",
          "name": "stdout",
          "text": [
            "List of reasons for medication recommendation:\n",
            "1. Acne\n",
            "2. Adhd\n",
            "3. Allergies\n",
            "4. Alzheimer\n",
            "5. Amoebiasis\n",
            "6. Anaemia\n",
            "7. Angina\n",
            "8. Anxiety\n",
            "9. Appetite\n",
            "10. Arrhythmiasis\n",
            "11. Arthritis\n",
            "12. Cleanser\n",
            "13. Constipation\n",
            "14. Contraception\n",
            "15. Dandruff\n",
            "16. Depression\n",
            "17. Diabetes\n",
            "18. Diarrhoea\n",
            "19. Digestion\n",
            "20. Fever\n",
            "21. Fungal\n",
            "22. General\n",
            "23. Glaucoma\n",
            "24. Gout\n",
            "25. Haematopoiesis\n",
            "26. Haemorrhoid\n",
            "27. Hyperpigmentation\n",
            "28. Hypertension\n",
            "29. Hyperthyroidism\n",
            "30. Hypnosis\n",
            "31. Hypotension\n",
            "32. Hypothyroidism\n",
            "33. Infection\n",
            "34. Malarial\n",
            "35. Migraine\n",
            "36. Mydriasis\n",
            "37. Osteoporosis\n",
            "38. Pain\n",
            "39. Parkinson\n",
            "40. Psychosis\n",
            "41. Pyrexia\n",
            "42. Scabies\n",
            "43. Schizophrenia\n",
            "44. Smoking\n",
            "45. Supplement\n",
            "46. Thrombolysis\n",
            "47. Vaccines\n",
            "48. Vertigo\n",
            "49. Viral\n",
            "50. Wound\n"
          ]
        }
      ]
    },
    {
      "cell_type": "code",
      "source": [
        "# Function to recommend medicines based on the chosen reason\n",
        "def recommend_medicines_for_chosen_reason(chosen_reason):\n",
        "    selected_reason = unique_reasons[chosen_reason - 1]\n",
        "    recommended_medicines = recommend_medicines(selected_reason)\n",
        "    print(\"\\nRecommended Medicines for\", selected_reason + \":\")\n",
        "    for medicine in recommended_medicines:\n",
        "        print(medicine)\n"
      ],
      "metadata": {
        "id": "arrM3WyqrYpZ"
      },
      "execution_count": 51,
      "outputs": []
    },
    {
      "cell_type": "code",
      "source": [
        "# Function to recommend medicines based on a given reason\n",
        "def recommend_medicines_for_reason():\n",
        "    reason = input(\"Enter the reason for medication recommendation: \")\n",
        "    recommended_medicines = recommend_medicines(reason)\n",
        "    print(\"\\nRecommended Medicines for\", reason + \":\")\n",
        "    for medicine in recommended_medicines:\n",
        "        print(medicine)\n",
        "\n",
        "# Call the function to recommend medicines based on user input\n",
        "recommend_medicines_for_reason()\n",
        "\n",
        "\n"
      ],
      "metadata": {
        "colab": {
          "base_uri": "https://localhost:8080/"
        },
        "id": "79re063Tb2vg",
        "outputId": "36b194a8-c93a-4028-e2f1-40b0c59387a9"
      },
      "execution_count": 47,
      "outputs": [
        {
          "output_type": "stream",
          "name": "stdout",
          "text": [
            "Enter the reason for medication recommendation: pain\n",
            "\n",
            "Recommended Medicines for pain:\n",
            "Adapen Gel 15gm\n",
            "Benzer 5% Gel 20gmBenzer 2.5% Gel 20gm\n",
            "CLENCHIN Gel(Topical) 20gm\n",
            "Clindakem A Gel 20gm\n",
            "ENCLINA Gel(Topical) 20gm\n"
          ]
        }
      ]
    },
    {
      "cell_type": "code",
      "source": [
        "# Prompt the user to choose a reason\n",
        "try:\n",
        "    chosen_reason = int(input(\"\\nEnter the number corresponding to the reason for medication recommendation: \"))\n",
        "    if 1 <= chosen_reason <= len(unique_reasons):\n",
        "        recommend_medicines_for_chosen_reason(chosen_reason)\n",
        "    else:\n",
        "        print(\"Invalid input. Please enter a valid number.\")\n",
        "except ValueError:\n",
        "    print(\"Invalid input. Please enter a valid number.\")"
      ],
      "metadata": {
        "colab": {
          "base_uri": "https://localhost:8080/"
        },
        "id": "yK-cfsq_rU7V",
        "outputId": "425863ca-eb09-428e-82ea-04017f38c7b5"
      },
      "execution_count": 50,
      "outputs": [
        {
          "output_type": "stream",
          "name": "stdout",
          "text": [
            "\n",
            "Enter the number corresponding to the reason for medication recommendation: 11\n",
            "\n",
            "Recommended Medicines for Arthritis:\n",
            "Adalirel 40mg Injection 1'S\n",
            "Arava 20mg Tablet 30'SArava 10mg Tablet 30'S\n",
            "Arthrella Ointment 30gm\n",
            "Artilage Tablet 10'S\n",
            "Bioquin 200mg Tablet 10'S\n"
          ]
        }
      ]
    }
  ]
}