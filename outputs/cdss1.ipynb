{
  "nbformat": 4,
  "nbformat_minor": 0,
  "metadata": {
    "colab": {
      "provenance": []
    },
    "kernelspec": {
      "name": "python3",
      "display_name": "Python 3"
    },
    "language_info": {
      "name": "python"
    }
  },
  "cells": [
    {
      "cell_type": "code",
      "source": [
        "import pandas as pd\n",
        "from sklearn.linear_model import LogisticRegression\n",
        "from sklearn.tree import DecisionTreeClassifier\n",
        "\n",
        "from sklearn.ensemble import VotingClassifier\n",
        "\n",
        "import numpy as np\n",
        "\n",
        "from sklearn.model_selection import train_test_split\n",
        "\n",
        "from sklearn.preprocessing import LabelEncoder\n",
        "\n",
        "from sklearn.metrics import confusion_matrix"
      ],
      "metadata": {
        "id": "3YaUs2iiOaP5"
      },
      "execution_count": 1,
      "outputs": []
    },
    {
      "cell_type": "code",
      "source": [
        "# load the dataset\n",
        "\n",
        "# Clone the repository containing the dataset\n",
        "!git clone https://github.com/imharshitaa/Clinical-Decision-Support-System-Healthcare-EPICS-project.git\n",
        "\n",
        "# Assuming the dataset file is in CSV format, you can use pandas to load it\n",
        "df = pd.read_csv(\"Clinical-Decision-Support-System-Healthcare-EPICS-project/data/Patient Data.csv\")\n",
        "\n",
        "# Drop the 'Index' column\n",
        "df.drop(columns=['Index'], inplace=True)\n",
        "\n",
        "# Replace NaN values with 0\n",
        "df.fillna(0, inplace=True)\n",
        "\n",
        "# Now you can work with the modified dataset\n",
        "print(df.head())\n",
        "\n"
      ],
      "metadata": {
        "colab": {
          "base_uri": "https://localhost:8080/"
        },
        "id": "wjPuYE_uO3mn",
        "outputId": "aecba33c-b74d-4596-a6bc-5b78f24df0e8"
      },
      "execution_count": 2,
      "outputs": [
        {
          "output_type": "stream",
          "name": "stdout",
          "text": [
            "Cloning into 'Clinical-Decision-Support-System-Healthcare-EPICS-project'...\n",
            "remote: Enumerating objects: 295, done.\u001b[K\n",
            "remote: Counting objects: 100% (137/137), done.\u001b[K\n",
            "remote: Compressing objects: 100% (131/131), done.\u001b[K\n",
            "remote: Total 295 (delta 56), reused 0 (delta 0), pack-reused 158\u001b[K\n",
            "Receiving objects: 100% (295/295), 24.08 MiB | 11.20 MiB/s, done.\n",
            "Resolving deltas: 100% (189/189), done.\n",
            "    HR (BPM)   RESP (BPM)   SpO2 (%)  TEMP (C)  PRIORITY\n",
            "0       94.0         21.0       97.0      36.2    Normal\n",
            "1       94.0         25.0       97.0      36.2    Normal\n",
            "2      101.0         25.0       93.0      38.0  Abnormal\n",
            "3       55.0         11.0      100.0      35.0  Abnormal\n",
            "4       93.0         26.0       95.0      37.0    Normal\n"
          ]
        }
      ]
    },
    {
      "cell_type": "code",
      "source": [
        "# split the data into features and target\n",
        "\n",
        "X = df.iloc[0:,:-1].values\n",
        "\n",
        "y = df.iloc[:,-1].values\n",
        "\n",
        "np.nan_to_num(X,\n",
        "copy=False)\n",
        "\n",
        "np.nan_to_num(y,copy=False)\n",
        "\n",
        "labelencoder_y = LabelEncoder()\n",
        "\n",
        "y = labelencoder_y.fit_transform(y)\n",
        "\n",
        "X_train, X_test, y_train, y_test =  train_test_split(X, y, test_size=0.20,random_state=0)\n",
        "\n",
        "print(\"X_test\")\n",
        "\n",
        "print(X_test)"
      ],
      "metadata": {
        "colab": {
          "base_uri": "https://localhost:8080/"
        },
        "id": "Jd60KwlRO7nS",
        "outputId": "bcd1f948-4e82-4b85-e95e-7570b95b0cc0"
      },
      "execution_count": 3,
      "outputs": [
        {
          "output_type": "stream",
          "name": "stdout",
          "text": [
            "X_test\n",
            "[[101.  17.  97.  40.]\n",
            " [ 90.  18.  97.  47.]\n",
            " [ 89.  19.  96.  42.]\n",
            " ...\n",
            " [ 82.  20.  93.  43.]\n",
            " [115.  18.  93.  37.]\n",
            " [ 76.  17.  98.  40.]]\n"
          ]
        }
      ]
    },
    {
      "cell_type": "code",
      "source": [
        "#  the logistic regression model\n",
        "\n",
        "logisticReg = LogisticRegression(random_state=95,max_iter=95)\n",
        "\n",
        "\n",
        "\n",
        "#  the decision tree model\n",
        "\n",
        "decisionTrClf = DecisionTreeClassifier(random_state=90)"
      ],
      "metadata": {
        "id": "BeohLFaMO_8y"
      },
      "execution_count": 4,
      "outputs": []
    },
    {
      "cell_type": "code",
      "source": [
        "#  ensemble model using both logistic regression and decision tree\n",
        "\n",
        "ensemble = VotingClassifier(estimators=[('lr',logisticReg), ('dt',decisionTrClf)], voting='soft')\n",
        "\n",
        "\n",
        "\n",
        "# fit the ensemble model to the data\n",
        "\n",
        "ensemble.fit(X_train,y_train)"
      ],
      "metadata": {
        "colab": {
          "base_uri": "https://localhost:8080/",
          "height": 109
        },
        "id": "ThkHgmyRPD9i",
        "outputId": "d505ac9f-2aed-499e-89ed-881f5c5e06b2"
      },
      "execution_count": 5,
      "outputs": [
        {
          "output_type": "execute_result",
          "data": {
            "text/plain": [
              "VotingClassifier(estimators=[('lr',\n",
              "                              LogisticRegression(max_iter=95, random_state=95)),\n",
              "                             ('dt', DecisionTreeClassifier(random_state=90))],\n",
              "                 voting='soft')"
            ],
            "text/html": [
              "<style>#sk-container-id-1 {color: black;background-color: white;}#sk-container-id-1 pre{padding: 0;}#sk-container-id-1 div.sk-toggleable {background-color: white;}#sk-container-id-1 label.sk-toggleable__label {cursor: pointer;display: block;width: 100%;margin-bottom: 0;padding: 0.3em;box-sizing: border-box;text-align: center;}#sk-container-id-1 label.sk-toggleable__label-arrow:before {content: \"▸\";float: left;margin-right: 0.25em;color: #696969;}#sk-container-id-1 label.sk-toggleable__label-arrow:hover:before {color: black;}#sk-container-id-1 div.sk-estimator:hover label.sk-toggleable__label-arrow:before {color: black;}#sk-container-id-1 div.sk-toggleable__content {max-height: 0;max-width: 0;overflow: hidden;text-align: left;background-color: #f0f8ff;}#sk-container-id-1 div.sk-toggleable__content pre {margin: 0.2em;color: black;border-radius: 0.25em;background-color: #f0f8ff;}#sk-container-id-1 input.sk-toggleable__control:checked~div.sk-toggleable__content {max-height: 200px;max-width: 100%;overflow: auto;}#sk-container-id-1 input.sk-toggleable__control:checked~label.sk-toggleable__label-arrow:before {content: \"▾\";}#sk-container-id-1 div.sk-estimator input.sk-toggleable__control:checked~label.sk-toggleable__label {background-color: #d4ebff;}#sk-container-id-1 div.sk-label input.sk-toggleable__control:checked~label.sk-toggleable__label {background-color: #d4ebff;}#sk-container-id-1 input.sk-hidden--visually {border: 0;clip: rect(1px 1px 1px 1px);clip: rect(1px, 1px, 1px, 1px);height: 1px;margin: -1px;overflow: hidden;padding: 0;position: absolute;width: 1px;}#sk-container-id-1 div.sk-estimator {font-family: monospace;background-color: #f0f8ff;border: 1px dotted black;border-radius: 0.25em;box-sizing: border-box;margin-bottom: 0.5em;}#sk-container-id-1 div.sk-estimator:hover {background-color: #d4ebff;}#sk-container-id-1 div.sk-parallel-item::after {content: \"\";width: 100%;border-bottom: 1px solid gray;flex-grow: 1;}#sk-container-id-1 div.sk-label:hover label.sk-toggleable__label {background-color: #d4ebff;}#sk-container-id-1 div.sk-serial::before {content: \"\";position: absolute;border-left: 1px solid gray;box-sizing: border-box;top: 0;bottom: 0;left: 50%;z-index: 0;}#sk-container-id-1 div.sk-serial {display: flex;flex-direction: column;align-items: center;background-color: white;padding-right: 0.2em;padding-left: 0.2em;position: relative;}#sk-container-id-1 div.sk-item {position: relative;z-index: 1;}#sk-container-id-1 div.sk-parallel {display: flex;align-items: stretch;justify-content: center;background-color: white;position: relative;}#sk-container-id-1 div.sk-item::before, #sk-container-id-1 div.sk-parallel-item::before {content: \"\";position: absolute;border-left: 1px solid gray;box-sizing: border-box;top: 0;bottom: 0;left: 50%;z-index: -1;}#sk-container-id-1 div.sk-parallel-item {display: flex;flex-direction: column;z-index: 1;position: relative;background-color: white;}#sk-container-id-1 div.sk-parallel-item:first-child::after {align-self: flex-end;width: 50%;}#sk-container-id-1 div.sk-parallel-item:last-child::after {align-self: flex-start;width: 50%;}#sk-container-id-1 div.sk-parallel-item:only-child::after {width: 0;}#sk-container-id-1 div.sk-dashed-wrapped {border: 1px dashed gray;margin: 0 0.4em 0.5em 0.4em;box-sizing: border-box;padding-bottom: 0.4em;background-color: white;}#sk-container-id-1 div.sk-label label {font-family: monospace;font-weight: bold;display: inline-block;line-height: 1.2em;}#sk-container-id-1 div.sk-label-container {text-align: center;}#sk-container-id-1 div.sk-container {/* jupyter's `normalize.less` sets `[hidden] { display: none; }` but bootstrap.min.css set `[hidden] { display: none !important; }` so we also need the `!important` here to be able to override the default hidden behavior on the sphinx rendered scikit-learn.org. See: https://github.com/scikit-learn/scikit-learn/issues/21755 */display: inline-block !important;position: relative;}#sk-container-id-1 div.sk-text-repr-fallback {display: none;}</style><div id=\"sk-container-id-1\" class=\"sk-top-container\"><div class=\"sk-text-repr-fallback\"><pre>VotingClassifier(estimators=[(&#x27;lr&#x27;,\n",
              "                              LogisticRegression(max_iter=95, random_state=95)),\n",
              "                             (&#x27;dt&#x27;, DecisionTreeClassifier(random_state=90))],\n",
              "                 voting=&#x27;soft&#x27;)</pre><b>In a Jupyter environment, please rerun this cell to show the HTML representation or trust the notebook. <br />On GitHub, the HTML representation is unable to render, please try loading this page with nbviewer.org.</b></div><div class=\"sk-container\" hidden><div class=\"sk-item sk-dashed-wrapped\"><div class=\"sk-label-container\"><div class=\"sk-label sk-toggleable\"><input class=\"sk-toggleable__control sk-hidden--visually\" id=\"sk-estimator-id-1\" type=\"checkbox\" ><label for=\"sk-estimator-id-1\" class=\"sk-toggleable__label sk-toggleable__label-arrow\">VotingClassifier</label><div class=\"sk-toggleable__content\"><pre>VotingClassifier(estimators=[(&#x27;lr&#x27;,\n",
              "                              LogisticRegression(max_iter=95, random_state=95)),\n",
              "                             (&#x27;dt&#x27;, DecisionTreeClassifier(random_state=90))],\n",
              "                 voting=&#x27;soft&#x27;)</pre></div></div></div><div class=\"sk-parallel\"><div class=\"sk-parallel-item\"><div class=\"sk-item\"><div class=\"sk-label-container\"><div class=\"sk-label sk-toggleable\"><label>lr</label></div></div><div class=\"sk-serial\"><div class=\"sk-item\"><div class=\"sk-estimator sk-toggleable\"><input class=\"sk-toggleable__control sk-hidden--visually\" id=\"sk-estimator-id-2\" type=\"checkbox\" ><label for=\"sk-estimator-id-2\" class=\"sk-toggleable__label sk-toggleable__label-arrow\">LogisticRegression</label><div class=\"sk-toggleable__content\"><pre>LogisticRegression(max_iter=95, random_state=95)</pre></div></div></div></div></div></div><div class=\"sk-parallel-item\"><div class=\"sk-item\"><div class=\"sk-label-container\"><div class=\"sk-label sk-toggleable\"><label>dt</label></div></div><div class=\"sk-serial\"><div class=\"sk-item\"><div class=\"sk-estimator sk-toggleable\"><input class=\"sk-toggleable__control sk-hidden--visually\" id=\"sk-estimator-id-3\" type=\"checkbox\" ><label for=\"sk-estimator-id-3\" class=\"sk-toggleable__label sk-toggleable__label-arrow\">DecisionTreeClassifier</label><div class=\"sk-toggleable__content\"><pre>DecisionTreeClassifier(random_state=90)</pre></div></div></div></div></div></div></div></div></div></div>"
            ]
          },
          "metadata": {},
          "execution_count": 5
        }
      ]
    },
    {
      "cell_type": "code",
      "source": [
        "# evaluate the model using k-fold cross-validation\n",
        "\n",
        "from sklearn.model_selection import cross_val_score\n",
        "\n",
        "scores = cross_val_score(ensemble,X_test, y_test, cv=5)\n",
        "\n",
        "print(\"Accuracy:%0.2f (+/-%0.2f)\" % (scores.mean(),scores.std() * 2))\n",
        "\n",
        "def confusionMatrix(y_true,y_pred):\n",
        "  y_pred = np.round(abs(y_pred))\n",
        "  tn, fp, fn, tp = confusion_matrix(y_true, y_pred).ravel()\n",
        "  accuracy=(tp+tn)/(tp+fp+fn+tn)\n",
        "  specificity = tn/(tn+fp)\n",
        "  sensitivity=tp/(tp+fn)\n",
        "  print(\"Accuracy:\",accuracy*100)\n",
        "  print(\"Sensitivity:\",sensitivity*100)\n",
        "  print(\"Specificity:\",specificity*100)\n",
        "y_pred = ensemble.predict(X_test)\n",
        "confusionMatrix(y_test,y_pred)"
      ],
      "metadata": {
        "colab": {
          "base_uri": "https://localhost:8080/"
        },
        "id": "llUY-b3vPGnz",
        "outputId": "4cd52f74-dee7-4ced-8009-c8e4c1592529"
      },
      "execution_count": 6,
      "outputs": [
        {
          "output_type": "stream",
          "name": "stdout",
          "text": [
            "Accuracy:0.99 (+/-0.01)\n",
            "Accuracy: 99.64698960580506\n",
            "Sensitivity: 99.49238578680203\n",
            "Specificity: 99.69364309420476\n"
          ]
        }
      ]
    },
    {
      "cell_type": "code",
      "source": [
        "import pickle\n",
        "\n",
        "filename = 'file.sav'\n",
        "\n",
        "pickle.dump(ensemble,open(filename,'wb'))\n",
        "\n",
        "# load the model from disk\n",
        "\n",
        "loaded_model = pickle.load(open(filename,'rb'))\n",
        "\n",
        "result = loaded_model.score(X_test, y_test)\n",
        "\n",
        "print(\"Loaded model\")\n",
        "\n",
        "print(result)\n",
        "\n"
      ],
      "metadata": {
        "colab": {
          "base_uri": "https://localhost:8080/"
        },
        "id": "zcgwwCcvPbzz",
        "outputId": "d5937ab1-cd52-4dad-eff3-f2a5ad92efa0"
      },
      "execution_count": 7,
      "outputs": [
        {
          "output_type": "stream",
          "name": "stdout",
          "text": [
            "Loaded model\n",
            "0.9964698960580506\n"
          ]
        }
      ]
    },
    {
      "cell_type": "code",
      "source": [
        "Z = [94,26,97,29],[94,25,97,42],[110,16,97,45],[142,10,97,45],[110,16,98,31]\n",
        "Z = np.array(Z)\n",
        "\n",
        "#Z = Z.reshape(-1,1)\n",
        "print(\"ZZZZZZZZZZZZz\")\n",
        "print(Z)\n"
      ],
      "metadata": {
        "colab": {
          "base_uri": "https://localhost:8080/"
        },
        "id": "L1J-X_8UPfDV",
        "outputId": "3fbcac78-60ea-4686-fa18-5bc435b51f25"
      },
      "execution_count": 8,
      "outputs": [
        {
          "output_type": "stream",
          "name": "stdout",
          "text": [
            "ZZZZZZZZZZZZz\n",
            "[[ 94  26  97  29]\n",
            " [ 94  25  97  42]\n",
            " [110  16  97  45]\n",
            " [142  10  97  45]\n",
            " [110  16  98  31]]\n"
          ]
        }
      ]
    },
    {
      "cell_type": "code",
      "source": [
        "#Z_pred = new_model.predict(Z)\n",
        "#print(Z_pred)\n",
        "\n",
        "\n",
        "\n",
        "Num = 1\n",
        "for z in Z:\n",
        "    print(z)\n",
        "    z = z.reshape(1,-1)\n",
        "    #Z1_pred = model.predict(z)\n",
        "    #print('Z1predddd')\n",
        "    #print(Z1_pred)\n",
        "    Z_pred = loaded_model.predict(z)\n",
        "    print(\"line 265\")\n",
        "    print(Z_pred)\n"
      ],
      "metadata": {
        "colab": {
          "base_uri": "https://localhost:8080/"
        },
        "id": "A1psJwXdPm1r",
        "outputId": "d8053d18-f973-4457-93ec-4552ba101afa"
      },
      "execution_count": 9,
      "outputs": [
        {
          "output_type": "stream",
          "name": "stdout",
          "text": [
            "[94 26 97 29]\n",
            "line 265\n",
            "[1]\n",
            "[94 25 97 42]\n",
            "line 265\n",
            "[0]\n",
            "[110  16  97  45]\n",
            "line 265\n",
            "[0]\n",
            "[142  10  97  45]\n",
            "line 265\n",
            "[0]\n",
            "[110  16  98  31]\n",
            "line 265\n",
            "[1]\n"
          ]
        }
      ]
    }
  ]
}